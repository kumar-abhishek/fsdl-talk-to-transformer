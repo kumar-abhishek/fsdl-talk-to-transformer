{
 "cells": [
  {
   "cell_type": "code",
   "execution_count": 2,
   "metadata": {},
   "outputs": [],
   "source": [
    "import warnings\n",
    "warnings.filterwarnings('ignore')"
   ]
  },
  {
   "cell_type": "code",
   "execution_count": 3,
   "metadata": {},
   "outputs": [],
   "source": [
    "import random\n",
    "import keras\n",
    "import os, glob\n",
    "import librosa, librosa.display\n",
    "\n",
    "import numpy as np\n",
    "import pandas as pd\n",
    "import tensorflow as tf\n",
    "from sklearn.metrics import confusion_matrix\n",
    "\n",
    "from keras.layers import Activation, Dense, Dropout, Conv2D, \\\n",
    "                         Flatten, MaxPooling2D\n",
    "from keras.models import Sequential, model_from_json\n",
    "from keras import backend as K\n",
    "\n",
    "from imblearn.over_sampling import RandomOverSampler\n"
   ]
  },
  {
   "cell_type": "code",
   "execution_count": 3,
   "metadata": {},
   "outputs": [
    {
     "data": {
      "text/plain": [
       "'1.14.0'"
      ]
     },
     "execution_count": 3,
     "metadata": {},
     "output_type": "execute_result"
    }
   ],
   "source": [
    "tf.__version__"
   ]
  },
  {
   "cell_type": "code",
   "execution_count": 4,
   "metadata": {},
   "outputs": [],
   "source": [
    "import sys\n",
    "module_path = os.path.abspath(os.path.join('../'))\n",
    "if module_path not in sys.path:\n",
    "    sys.path.append(module_path)"
   ]
  },
  {
   "cell_type": "code",
   "execution_count": 5,
   "metadata": {},
   "outputs": [
    {
     "data": {
      "text/plain": [
       "[]"
      ]
     },
     "execution_count": 5,
     "metadata": {},
     "output_type": "execute_result"
    }
   ],
   "source": [
    "K.tensorflow_backend._get_available_gpus()"
   ]
  },
  {
   "cell_type": "code",
   "execution_count": 6,
   "metadata": {},
   "outputs": [],
   "source": [
    "from settings import *"
   ]
  },
  {
   "cell_type": "code",
   "execution_count": 526,
   "metadata": {},
   "outputs": [
    {
     "data": {
      "text/plain": [
       "2000"
      ]
     },
     "execution_count": 526,
     "metadata": {},
     "output_type": "execute_result"
    }
   ],
   "source": [
    "len(glob.glob(DATA_DIR_GUITAR + \"**/*.wav\"))"
   ]
  },
  {
   "cell_type": "markdown",
   "metadata": {},
   "source": [
    "### Generate Metadata"
   ]
  },
  {
   "cell_type": "code",
   "execution_count": 5,
   "metadata": {},
   "outputs": [],
   "source": [
    "def df_info(f):\n",
    "    def inner(df, *args, **kwargs):\n",
    "        result = f(df, *args, **kwargs)\n",
    "        print(f\"After applying {f.__name__}, shape of df = {result.shape }\")\n",
    "        print(f\"Columns of df are {df.columns}\\n\")\n",
    "        return result\n",
    "    return inner\n",
    "\n",
    "# Construct Dataframe with all required values\n",
    "@df_info\n",
    "def construct_dataframe(df):\n",
    "    df['file_path'] = file_path\n",
    "    df['file_path'] = df['file_path'].map(lambda x: x[x.rindex('Only/')+len('Only/'):])\n",
    "    df['file_name'] = df['file_path'].map(lambda x: x[x.rindex('/')+1:])\n",
    "    df['class_name'] = df['file_path'].map(lambda x: x[:x.index('/')])\n",
    "    df['class_ID'] = df['class_name'].map(lambda x: CLASSES_MAP[x])\n",
    "    return df.copy()\n",
    "\n",
    "# Extract spectrogram from audio\n",
    "@df_info\n",
    "def get_spectrogram(df):\n",
    "    df['audio_series'] = df['file_path'].map(lambda x: librosa.load(DATA_DIR_GUITAR + x, duration=2))\n",
    "    df['y'] = df['audio_series'].map(lambda x: x[0])\n",
    "    df['sr'] = df['audio_series'].map(lambda x: x[1])\n",
    "    df['spectrogram'] = df.apply(lambda row: librosa.feature.melspectrogram(y=row['y'], sr=row['sr']), axis=1)\n",
    "    df.drop(columns='audio_series', inplace=True)\n",
    "    return df\n",
    "\n",
    "@df_info\n",
    "def get_count(df):\n",
    "    return df['class_name'].value_counts()\n",
    "\n",
    "@df_info\n",
    "def add_shape(df):\n",
    "    df['shape'] = df['spectrogram'].map(lambda x: x.shape)\n",
    "    return df"
   ]
  },
  {
   "cell_type": "markdown",
   "metadata": {},
   "source": [
    "### Generate raw data"
   ]
  },
  {
   "cell_type": "code",
   "execution_count": 159,
   "metadata": {
    "scrolled": true
   },
   "outputs": [
    {
     "name": "stdout",
     "output_type": "stream",
     "text": [
      "After applying construct_dataframe, shape of df = (2000, 4)\n",
      "Columns of df are Index(['file_path', 'file_name', 'class_name', 'class_ID'], dtype='object')\n",
      "\n",
      "After applying get_spectrogram, shape of df = (2000, 7)\n",
      "Columns of df are Index(['file_path', 'file_name', 'class_name', 'class_ID', 'y', 'sr',\n",
      "       'spectrogram'],\n",
      "      dtype='object')\n",
      "\n"
     ]
    }
   ],
   "source": [
    "file_path = glob.glob(DATA_DIR_GUITAR + \"**/*.wav\")\n",
    "data_df_raw = (pd.DataFrame().pipe(construct_dataframe)\n",
    "                            .pipe(get_spectrogram)\n",
    "                             .pipe(add_shape)\n",
    "            )\n"
   ]
  },
  {
   "cell_type": "code",
   "execution_count": 126,
   "metadata": {
    "scrolled": true
   },
   "outputs": [
    {
     "name": "stdout",
     "output_type": "stream",
     "text": [
      "After applying get_count, shape of df = (10,)\n",
      "Columns of df are Index(['file_path', 'file_name', 'class_name', 'class_ID', 'y', 'sr',\n",
      "       'spectrogram'],\n",
      "      dtype='object')\n",
      "\n"
     ]
    },
    {
     "data": {
      "text/plain": [
       "dm    200\n",
       "e     200\n",
       "bm    200\n",
       "am    200\n",
       "d     200\n",
       "a     200\n",
       "em    200\n",
       "f     200\n",
       "g     200\n",
       "c     200\n",
       "Name: class_name, dtype: int64"
      ]
     },
     "execution_count": 126,
     "metadata": {},
     "output_type": "execute_result"
    }
   ],
   "source": [
    "get_count(data_df_raw)"
   ]
  },
  {
   "cell_type": "markdown",
   "metadata": {},
   "source": [
    "### Save raw data\n"
   ]
  },
  {
   "cell_type": "markdown",
   "metadata": {},
   "source": [
    "- csv just for human readable format\n",
    "- pkl is actually used since it can store numpy arrays"
   ]
  },
  {
   "cell_type": "code",
   "execution_count": 275,
   "metadata": {
    "scrolled": true
   },
   "outputs": [],
   "source": [
    "data_df_raw.to_csv(os.path.join(METADATA_DIR_RAW, 'data.csv'), index=False)\n",
    "data_df_raw.to_pickle(os.path.join(METADATA_DIR_RAW, 'data.pkl'))"
   ]
  },
  {
   "cell_type": "code",
   "execution_count": null,
   "metadata": {},
   "outputs": [],
   "source": [
    "data_df_raw = pd.read_pickle(os.path.join(METADATA_DIR_RAW, 'data.pkl'))"
   ]
  },
  {
   "cell_type": "code",
   "execution_count": 158,
   "metadata": {
    "scrolled": true
   },
   "outputs": [
    {
     "data": {
      "text/html": [
       "<div>\n",
       "<style scoped>\n",
       "    .dataframe tbody tr th:only-of-type {\n",
       "        vertical-align: middle;\n",
       "    }\n",
       "\n",
       "    .dataframe tbody tr th {\n",
       "        vertical-align: top;\n",
       "    }\n",
       "\n",
       "    .dataframe thead th {\n",
       "        text-align: right;\n",
       "    }\n",
       "</style>\n",
       "<table border=\"1\" class=\"dataframe\">\n",
       "  <thead>\n",
       "    <tr style=\"text-align: right;\">\n",
       "      <th></th>\n",
       "      <th>file_path</th>\n",
       "      <th>file_name</th>\n",
       "      <th>class_name</th>\n",
       "      <th>class_ID</th>\n",
       "      <th>y</th>\n",
       "      <th>sr</th>\n",
       "      <th>spectrogram</th>\n",
       "    </tr>\n",
       "  </thead>\n",
       "  <tbody>\n",
       "    <tr>\n",
       "      <th>0</th>\n",
       "      <td>g/g102.wav</td>\n",
       "      <td>g102.wav</td>\n",
       "      <td>g</td>\n",
       "      <td>9</td>\n",
       "      <td>[-0.0703664  -0.10625491 -0.06439576 ... -0.02...</td>\n",
       "      <td>22050</td>\n",
       "      <td>[[9.56414733e-03 2.09606037e-01 1.36905205e+00...</td>\n",
       "    </tr>\n",
       "    <tr>\n",
       "      <th>1</th>\n",
       "      <td>g/g194.wav</td>\n",
       "      <td>g194.wav</td>\n",
       "      <td>g</td>\n",
       "      <td>9</td>\n",
       "      <td>[ 0.00393952  0.00571453  0.00609498 ... -0.00...</td>\n",
       "      <td>22050</td>\n",
       "      <td>[[9.17346403e-03 9.72308777e-03 5.16915461e-03...</td>\n",
       "    </tr>\n",
       "    <tr>\n",
       "      <th>2</th>\n",
       "      <td>g/g144.wav</td>\n",
       "      <td>g144.wav</td>\n",
       "      <td>g</td>\n",
       "      <td>9</td>\n",
       "      <td>[-0.00017986  0.00102038  0.00373939 ... -0.00...</td>\n",
       "      <td>22050</td>\n",
       "      <td>[[2.3263648e-02 1.3200079e-02 5.6901169e-03 .....</td>\n",
       "    </tr>\n",
       "    <tr>\n",
       "      <th>3</th>\n",
       "      <td>g/g160.wav</td>\n",
       "      <td>g160.wav</td>\n",
       "      <td>g</td>\n",
       "      <td>9</td>\n",
       "      <td>[-0.00084703 -0.00043425 -0.00062728 ...  0.00...</td>\n",
       "      <td>22050</td>\n",
       "      <td>[[3.0921197e-03 8.7422887e-03 1.7377490e-02 .....</td>\n",
       "    </tr>\n",
       "    <tr>\n",
       "      <th>4</th>\n",
       "      <td>g/g129.wav</td>\n",
       "      <td>g129.wav</td>\n",
       "      <td>g</td>\n",
       "      <td>9</td>\n",
       "      <td>[-0.00644014 -0.00737232 -0.00073748 ...  0.00...</td>\n",
       "      <td>22050</td>\n",
       "      <td>[[1.17112761e-02 8.50785989e-03 6.17251592e-03...</td>\n",
       "    </tr>\n",
       "  </tbody>\n",
       "</table>\n",
       "</div>"
      ],
      "text/plain": [
       "    file_path file_name class_name  class_ID  \\\n",
       "0  g/g102.wav  g102.wav          g         9   \n",
       "1  g/g194.wav  g194.wav          g         9   \n",
       "2  g/g144.wav  g144.wav          g         9   \n",
       "3  g/g160.wav  g160.wav          g         9   \n",
       "4  g/g129.wav  g129.wav          g         9   \n",
       "\n",
       "                                                   y     sr  \\\n",
       "0  [-0.0703664  -0.10625491 -0.06439576 ... -0.02...  22050   \n",
       "1  [ 0.00393952  0.00571453  0.00609498 ... -0.00...  22050   \n",
       "2  [-0.00017986  0.00102038  0.00373939 ... -0.00...  22050   \n",
       "3  [-0.00084703 -0.00043425 -0.00062728 ...  0.00...  22050   \n",
       "4  [-0.00644014 -0.00737232 -0.00073748 ...  0.00...  22050   \n",
       "\n",
       "                                         spectrogram  \n",
       "0  [[9.56414733e-03 2.09606037e-01 1.36905205e+00...  \n",
       "1  [[9.17346403e-03 9.72308777e-03 5.16915461e-03...  \n",
       "2  [[2.3263648e-02 1.3200079e-02 5.6901169e-03 .....  \n",
       "3  [[3.0921197e-03 8.7422887e-03 1.7377490e-02 .....  \n",
       "4  [[1.17112761e-02 8.50785989e-03 6.17251592e-03...  "
      ]
     },
     "execution_count": 158,
     "metadata": {},
     "output_type": "execute_result"
    }
   ],
   "source": [
    "data_df_raw.head()"
   ]
  },
  {
   "cell_type": "markdown",
   "metadata": {},
   "source": [
    "### Process and save processed data"
   ]
  },
  {
   "cell_type": "markdown",
   "metadata": {},
   "source": [
    "- csv just for human readable format\n",
    "- pkl is actually used since it can store numpy arrays"
   ]
  },
  {
   "cell_type": "code",
   "execution_count": 7,
   "metadata": {},
   "outputs": [],
   "source": [
    "# Maintain same shape\n",
    "@df_info\n",
    "def clean_shape(df):\n",
    "    max_shape = df['spectrogram'].map(lambda x: x.shape).value_counts().index[0]\n",
    "    print(f\"The most frequent shape is {max_shape}\")\n",
    "    df['shape'] = df['spectrogram'].map(lambda x: x.shape)\n",
    "    df = df[df['shape']==max_shape]\n",
    "    df.drop(columns='shape', inplace=True)\n",
    "    df.reset_index(drop=True, inplace=True)\n",
    "    return df\n",
    "\n",
    "@df_info\n",
    "def process(df):\n",
    "    df = (df.pipe(clean_shape)\n",
    "                .pipe(over_sample)\n",
    "    )\n",
    "    df = df[['spectrogram','class_ID', 'class_name']]\n",
    "    return df\n",
    "\n",
    "#Over sampling data\n",
    "@df_info\n",
    "def over_sample(df):\n",
    "    oversample = RandomOverSampler(sampling_strategy='auto')\n",
    "    X, y = df['spectrogram'].values, df['class_ID'].values\n",
    "    X = X.reshape(-1, 1)\n",
    "    X, y = oversample.fit_resample(X, y)\n",
    "    df = pd.DataFrame()\n",
    "    df['spectrogram'] = pd.Series([np.array(x[0]) for x in X])\n",
    "    df['class_ID'] = pd.Series(y)\n",
    "    df['class_name'] = df['class_ID'].map(lambda x: get_class(x))\n",
    "    return df\n",
    "\n",
    "def get_class(class_ID):\n",
    "    return list(CLASSES_MAP.keys())[list(CLASSES_MAP.values()).index(class_ID)]"
   ]
  },
  {
   "cell_type": "code",
   "execution_count": 498,
   "metadata": {
    "scrolled": true
   },
   "outputs": [
    {
     "name": "stdout",
     "output_type": "stream",
     "text": [
      "The most frequent shape is (128, 87)\n",
      "After applying clean_shape, shape of df = (633, 8)\n",
      "Columns of df are Index(['file_path', 'file_name', 'class_name', 'class_ID', 'y', 'sr',\n",
      "       'spectrogram', 'augmentation', 'shape'],\n",
      "      dtype='object')\n",
      "\n",
      "After applying over_sample, shape of df = (1150, 3)\n",
      "Columns of df are Index(['file_path', 'file_name', 'class_name', 'class_ID', 'y', 'sr',\n",
      "       'spectrogram', 'augmentation'],\n",
      "      dtype='object')\n",
      "\n",
      "After applying process, shape of df = (1150, 3)\n",
      "Columns of df are Index(['file_path', 'file_name', 'class_name', 'class_ID', 'y', 'sr',\n",
      "       'spectrogram', 'augmentation', 'shape'],\n",
      "      dtype='object')\n",
      "\n"
     ]
    }
   ],
   "source": [
    "data_df_processed = process(data_df_raw)"
   ]
  },
  {
   "cell_type": "code",
   "execution_count": 499,
   "metadata": {},
   "outputs": [
    {
     "name": "stdout",
     "output_type": "stream",
     "text": [
      "After applying get_count, shape of df = (10,)\n",
      "Columns of df are Index(['spectrogram', 'class_ID', 'class_name'], dtype='object')\n",
      "\n"
     ]
    },
    {
     "data": {
      "text/plain": [
       "dm    115\n",
       "e     115\n",
       "bm    115\n",
       "am    115\n",
       "g     115\n",
       "d     115\n",
       "a     115\n",
       "em    115\n",
       "c     115\n",
       "f     115\n",
       "Name: class_name, dtype: int64"
      ]
     },
     "execution_count": 499,
     "metadata": {},
     "output_type": "execute_result"
    }
   ],
   "source": [
    "get_count(data_df_processed)"
   ]
  },
  {
   "cell_type": "code",
   "execution_count": 500,
   "metadata": {
    "scrolled": true
   },
   "outputs": [],
   "source": [
    "data_df_processed.to_csv(os.path.join(METADATA_DIR_PROCESSED, 'data.csv'), index=False)\n",
    "data_df_processed.to_pickle(os.path.join(METADATA_DIR_PROCESSED, 'data.pkl'))"
   ]
  },
  {
   "cell_type": "code",
   "execution_count": 501,
   "metadata": {
    "scrolled": true
   },
   "outputs": [
    {
     "data": {
      "text/html": [
       "<div>\n",
       "<style scoped>\n",
       "    .dataframe tbody tr th:only-of-type {\n",
       "        vertical-align: middle;\n",
       "    }\n",
       "\n",
       "    .dataframe tbody tr th {\n",
       "        vertical-align: top;\n",
       "    }\n",
       "\n",
       "    .dataframe thead th {\n",
       "        text-align: right;\n",
       "    }\n",
       "</style>\n",
       "<table border=\"1\" class=\"dataframe\">\n",
       "  <thead>\n",
       "    <tr style=\"text-align: right;\">\n",
       "      <th></th>\n",
       "      <th>spectrogram</th>\n",
       "      <th>class_ID</th>\n",
       "      <th>class_name</th>\n",
       "    </tr>\n",
       "  </thead>\n",
       "  <tbody>\n",
       "    <tr>\n",
       "      <th>0</th>\n",
       "      <td>[[0.023263648, 0.013200079, 0.005690117, 0.005...</td>\n",
       "      <td>9</td>\n",
       "      <td>g</td>\n",
       "    </tr>\n",
       "    <tr>\n",
       "      <th>1</th>\n",
       "      <td>[[0.0030921197, 0.008742289, 0.01737749, 0.010...</td>\n",
       "      <td>9</td>\n",
       "      <td>g</td>\n",
       "    </tr>\n",
       "    <tr>\n",
       "      <th>2</th>\n",
       "      <td>[[0.011711276, 0.00850786, 0.006172516, 0.0059...</td>\n",
       "      <td>9</td>\n",
       "      <td>g</td>\n",
       "    </tr>\n",
       "    <tr>\n",
       "      <th>3</th>\n",
       "      <td>[[0.008072537, 0.006353717, 0.0074853124, 0.00...</td>\n",
       "      <td>9</td>\n",
       "      <td>g</td>\n",
       "    </tr>\n",
       "    <tr>\n",
       "      <th>4</th>\n",
       "      <td>[[0.0064443834, 0.007321003, 0.0068667047, 0.0...</td>\n",
       "      <td>9</td>\n",
       "      <td>g</td>\n",
       "    </tr>\n",
       "  </tbody>\n",
       "</table>\n",
       "</div>"
      ],
      "text/plain": [
       "                                         spectrogram  class_ID class_name\n",
       "0  [[0.023263648, 0.013200079, 0.005690117, 0.005...         9          g\n",
       "1  [[0.0030921197, 0.008742289, 0.01737749, 0.010...         9          g\n",
       "2  [[0.011711276, 0.00850786, 0.006172516, 0.0059...         9          g\n",
       "3  [[0.008072537, 0.006353717, 0.0074853124, 0.00...         9          g\n",
       "4  [[0.0064443834, 0.007321003, 0.0068667047, 0.0...         9          g"
      ]
     },
     "execution_count": 501,
     "metadata": {},
     "output_type": "execute_result"
    }
   ],
   "source": [
    "data_df_processed.head()"
   ]
  },
  {
   "cell_type": "markdown",
   "metadata": {},
   "source": [
    "### Examples of Siren spectrograms"
   ]
  },
  {
   "cell_type": "code",
   "execution_count": 30,
   "metadata": {},
   "outputs": [
    {
     "data": {
      "text/plain": [
       "(128, 76)"
      ]
     },
     "execution_count": 30,
     "metadata": {},
     "output_type": "execute_result"
    }
   ],
   "source": [
    "y, sr = librosa.load(DATA_DIR_GUITAR+data_df_raw['file_path'].iloc[0],duration=2)\n",
    "ps = librosa.feature.melspectrogram(y=y, sr=sr)\n",
    "ps.shape"
   ]
  },
  {
   "cell_type": "code",
   "execution_count": 31,
   "metadata": {},
   "outputs": [
    {
     "data": {
      "text/plain": [
       "<matplotlib.axes._subplots.AxesSubplot at 0x7f464403dc50>"
      ]
     },
     "execution_count": 31,
     "metadata": {},
     "output_type": "execute_result"
    },
    {
     "data": {
      "image/png": "[encoded data removed]",
      "text/plain": [
       "<Figure size 432x288 with 1 Axes>"
      ]
     },
     "metadata": {
      "needs_background": "light"
     },
     "output_type": "display_data"
    }
   ],
   "source": [
    "librosa.display.specshow(ps, y_axis='mel', x_axis='time')"
   ]
  },
  {
   "cell_type": "code",
   "execution_count": 33,
   "metadata": {},
   "outputs": [
    {
     "data": {
      "text/plain": [
       "(128, 81)"
      ]
     },
     "execution_count": 33,
     "metadata": {},
     "output_type": "execute_result"
    }
   ],
   "source": [
    "y, sr = librosa.load(DATA_DIR_GUITAR+data_df_raw['file_path'].iloc[201],duration=2)\n",
    "ps = librosa.feature.melspectrogram(y=y, sr=sr,)\n",
    "ps.shape\n"
   ]
  },
  {
   "cell_type": "code",
   "execution_count": 34,
   "metadata": {},
   "outputs": [
    {
     "data": {
      "text/plain": [
       "<matplotlib.axes._subplots.AxesSubplot at 0x7f4698479cf8>"
      ]
     },
     "execution_count": 34,
     "metadata": {},
     "output_type": "execute_result"
    },
    {
     "data": {
      "image/png": "[encoded data removed]",
      "text/plain": [
       "<Figure size 432x288 with 1 Axes>"
      ]
     },
     "metadata": {
      "needs_background": "light"
     },
     "output_type": "display_data"
    }
   ],
   "source": [
    "librosa.display.specshow(ps, y_axis='mel', x_axis='time')"
   ]
  },
  {
   "cell_type": "code",
   "execution_count": 35,
   "metadata": {},
   "outputs": [
    {
     "data": {
      "text/plain": [
       "(128, 87)"
      ]
     },
     "execution_count": 35,
     "metadata": {},
     "output_type": "execute_result"
    }
   ],
   "source": [
    "y, sr = librosa.load(DATA_DIR_GUITAR+data_df_raw['file_path'].iloc[401],duration=2)\n",
    "ps = librosa.feature.melspectrogram(y=y, sr=sr,)\n",
    "ps.shape\n"
   ]
  },
  {
   "cell_type": "code",
   "execution_count": 36,
   "metadata": {},
   "outputs": [
    {
     "data": {
      "text/plain": [
       "<matplotlib.axes._subplots.AxesSubplot at 0x7f46b0290160>"
      ]
     },
     "execution_count": 36,
     "metadata": {},
     "output_type": "execute_result"
    },
    {
     "data": {
      "image/png": "[encoded data removed]",
      "text/plain": [
       "<Figure size 432x288 with 1 Axes>"
      ]
     },
     "metadata": {
      "needs_background": "light"
     },
     "output_type": "display_data"
    }
   ],
   "source": [
    "librosa.display.specshow(ps, y_axis='mel', x_axis='time')"
   ]
  },
  {
   "cell_type": "code",
   "execution_count": 37,
   "metadata": {},
   "outputs": [
    {
     "data": {
      "text/plain": [
       "(128, 68)"
      ]
     },
     "execution_count": 37,
     "metadata": {},
     "output_type": "execute_result"
    }
   ],
   "source": [
    "y, sr = librosa.load(DATA_DIR_GUITAR+data_df_raw['file_path'].iloc[801],duration=2)\n",
    "ps = librosa.feature.melspectrogram(y=y, sr=sr,)\n",
    "ps.shape\n"
   ]
  },
  {
   "cell_type": "code",
   "execution_count": 38,
   "metadata": {},
   "outputs": [
    {
     "data": {
      "text/plain": [
       "<matplotlib.axes._subplots.AxesSubplot at 0x7f46200f9550>"
      ]
     },
     "execution_count": 38,
     "metadata": {},
     "output_type": "execute_result"
    },
    {
     "data": {
      "image/png": "[encoded data removed]",
      "text/plain": [
       "<Figure size 432x288 with 1 Axes>"
      ]
     },
     "metadata": {
      "needs_background": "light"
     },
     "output_type": "display_data"
    }
   ],
   "source": [
    "librosa.display.specshow(ps, y_axis='mel', x_axis='time')"
   ]
  },
  {
   "cell_type": "markdown",
   "metadata": {},
   "source": [
    "## Training"
   ]
  },
  {
   "cell_type": "markdown",
   "metadata": {},
   "source": [
    "### Load processed data"
   ]
  },
  {
   "cell_type": "code",
   "execution_count": 503,
   "metadata": {},
   "outputs": [],
   "source": [
    "dataset = pd.read_pickle(os.path.join(METADATA_DIR_PROCESSED, 'data.pkl'))"
   ]
  },
  {
   "cell_type": "code",
   "execution_count": 504,
   "metadata": {},
   "outputs": [
    {
     "name": "stdout",
     "output_type": "stream",
     "text": [
      "Number of samples:  1150\n"
     ]
    }
   ],
   "source": [
    "print(\"Number of samples: \", len(dataset))"
   ]
  },
  {
   "cell_type": "code",
   "execution_count": 505,
   "metadata": {},
   "outputs": [
    {
     "data": {
      "text/plain": [
       "spectrogram    [[0.023263648, 0.013200079, 0.005690117, 0.005...\n",
       "class_ID                                                       9\n",
       "class_name                                                     g\n",
       "Name: 0, dtype: object"
      ]
     },
     "execution_count": 505,
     "metadata": {},
     "output_type": "execute_result"
    }
   ],
   "source": [
    "dataset.iloc[0]"
   ]
  },
  {
   "cell_type": "code",
   "execution_count": 506,
   "metadata": {},
   "outputs": [
    {
     "data": {
      "text/plain": [
       "(128, 87)"
      ]
     },
     "execution_count": 506,
     "metadata": {},
     "output_type": "execute_result"
    }
   ],
   "source": [
    "dataset['spectrogram'].iloc[0].shape"
   ]
  },
  {
   "cell_type": "markdown",
   "metadata": {},
   "source": [
    "### Splitting into train and test"
   ]
  },
  {
   "cell_type": "code",
   "execution_count": 507,
   "metadata": {},
   "outputs": [
    {
     "name": "stdout",
     "output_type": "stream",
     "text": [
      "Number of training samples is 920\n",
      "Number of testing samples is 230\n",
      "                                           spectrogram  class_ID class_name\n",
      "174  [[0.046818838, 0.026844991, 0.009680895, 0.007...         1         am\n",
      "752  [[0.0006190296, 0.00059949054, 0.00044531212, ...         2         bm\n",
      "467  [[0.007340345, 0.005847832, 0.006782163, 0.004...         6          e\n",
      "240  [[0.48427373, 0.11414378, 0.0058219954, 0.0058...         3          c\n",
      "667  [[0.0030681787, 0.004598457, 0.0036218201, 0.0...         0          a\n",
      "218  [[0.0074670273, 0.0066150953, 0.0060418868, 0....         3          c\n",
      "867  [[0.00015142752, 0.00018522875, 9.559582e-05, ...         4          d\n",
      "420  [[7.87276e-05, 7.189855e-05, 0.00018623109, 0....         2         bm\n",
      "351  [[0.00012273485, 0.00016972361, 0.00024977553,...         8          f\n",
      "328  [[0.000764267, 0.0005248326, 0.00036606504, 0....         5         dm\n",
      "                                          spectrogram  class_ID class_name\n",
      "1   [[0.0030921197, 0.008742289, 0.01737749, 0.010...         9          g\n",
      "13  [[0.008328221, 0.012946299, 0.008083651, 0.007...         9          g\n",
      "14  [[0.00064288714, 0.00044426371, 0.00030687582,...         9          g\n",
      "20  [[0.00048143964, 0.00046751637, 0.000309315, 0...         9          g\n",
      "21  [[0.008684181, 0.008429323, 0.0065017547, 0.00...         9          g\n",
      "27  [[5.4861357e-05, 0.0001182717, 0.00017340745, ...         9          g\n",
      "34  [[1.854072e-05, 4.2590924e-05, 6.209528e-05, 8...         9          g\n",
      "40  [[0.0059275148, 0.0059900326, 0.0060968352, 0....         9          g\n",
      "52  [[0.0066848923, 0.0065331664, 0.005455684, 0.0...         9          g\n",
      "64  [[3.895734e-05, 0.00014616796, 0.0002295502, 0...         9          g\n"
     ]
    }
   ],
   "source": [
    "np.random.seed(42)\n",
    "sample = np.random.choice(dataset.index, size=int(len(dataset)*0.8), replace=False)\n",
    "train_data, test_data = dataset.iloc[sample], dataset.drop(sample)\n",
    "\n",
    "print(\"Number of training samples is\", len(train_data))\n",
    "print(\"Number of testing samples is\", len(test_data))\n",
    "print(train_data[:10])\n",
    "print(test_data[:10])"
   ]
  },
  {
   "cell_type": "code",
   "execution_count": 508,
   "metadata": {},
   "outputs": [
    {
     "data": {
      "text/plain": [
       "array([[4.6818838e-02, 2.6844991e-02, 9.6808951e-03, ..., 6.1833183e-03,\n",
       "        7.4705025e-03, 2.4528878e-02],\n",
       "       [8.1299953e-03, 5.3190491e-03, 5.0602490e-03, ..., 5.8139743e-05,\n",
       "        1.9048223e-03, 1.1817389e-02],\n",
       "       [4.0778562e-01, 9.2032832e-01, 1.5335680e+00, ..., 4.9403263e-04,\n",
       "        7.3649571e-03, 3.9279733e-02],\n",
       "       ...,\n",
       "       [3.2432359e-02, 3.7415069e-02, 2.2326944e-02, ..., 3.6768961e-06,\n",
       "        6.3032171e-06, 1.4038159e-05],\n",
       "       [1.4877983e-02, 1.8892338e-02, 1.2256243e-02, ..., 1.8769103e-06,\n",
       "        2.4040874e-06, 6.7680508e-06],\n",
       "       [1.0006273e-03, 6.5019802e-04, 3.1044008e-04, ..., 1.7233739e-07,\n",
       "        5.9962952e-07, 2.7855019e-06]], dtype=float32)"
      ]
     },
     "execution_count": 508,
     "metadata": {},
     "output_type": "execute_result"
    }
   ],
   "source": [
    "train_data['spectrogram'].iloc[0]"
   ]
  },
  {
   "cell_type": "code",
   "execution_count": 509,
   "metadata": {},
   "outputs": [
    {
     "name": "stdout",
     "output_type": "stream",
     "text": [
      "spectrogram    [[0.046818838, 0.026844991, 0.009680895, 0.007...\n",
      "class_ID                                                       1\n",
      "class_name                                                    am\n",
      "Name: 174, dtype: object\n",
      "(128, 87)\n",
      "0.026844991\n",
      "1\n"
     ]
    }
   ],
   "source": [
    "print(train_data.iloc[0])\n",
    "print(train_data.iloc[0][0].shape)   #shape of input image\n",
    "print(train_data.iloc[0][0][0][1])\n",
    "print(train_data.iloc[0][1])    #output class id"
   ]
  },
  {
   "cell_type": "markdown",
   "metadata": {},
   "source": [
    "## Splitting the data into features (X) and targets (y)\n",
    "Now, as a final step before the training, we'll split the data into features (X) and targets (y)."
   ]
  },
  {
   "cell_type": "code",
   "execution_count": 510,
   "metadata": {},
   "outputs": [
    {
     "name": "stdout",
     "output_type": "stream",
     "text": [
      "174    [[0.046818838, 0.026844991, 0.009680895, 0.007...\n",
      "752    [[0.0006190296, 0.00059949054, 0.00044531212, ...\n",
      "467    [[0.007340345, 0.005847832, 0.006782163, 0.004...\n",
      "240    [[0.48427373, 0.11414378, 0.0058219954, 0.0058...\n",
      "667    [[0.0030681787, 0.004598457, 0.0036218201, 0.0...\n",
      "218    [[0.0074670273, 0.0066150953, 0.0060418868, 0....\n",
      "867    [[0.00015142752, 0.00018522875, 9.559582e-05, ...\n",
      "420    [[7.87276e-05, 7.189855e-05, 0.00018623109, 0....\n",
      "351    [[0.00012273485, 0.00016972361, 0.00024977553,...\n",
      "328    [[0.000764267, 0.0005248326, 0.00036606504, 0....\n",
      "Name: spectrogram, dtype: object\n",
      "174    1\n",
      "752    2\n",
      "467    6\n",
      "240    3\n",
      "667    0\n",
      "218    3\n",
      "867    4\n",
      "420    2\n",
      "351    8\n",
      "328    5\n",
      "Name: class_ID, dtype: int64\n"
     ]
    }
   ],
   "source": [
    "X_train = train_data['spectrogram']\n",
    "y_train = train_data['class_ID']\n",
    "X_test = test_data['spectrogram']\n",
    "y_test = test_data['class_ID']\n",
    "\n",
    "print(X_train[:10])\n",
    "print(y_train[:10])"
   ]
  },
  {
   "cell_type": "markdown",
   "metadata": {},
   "source": [
    "### Reshape for CNN input"
   ]
  },
  {
   "cell_type": "code",
   "execution_count": 511,
   "metadata": {},
   "outputs": [],
   "source": [
    "X_train = np.array([x.reshape( (128, 87, 1) ) for x in X_train])\n",
    "X_test = np.array([x.reshape( (128, 87, 1) ) for x in X_test])"
   ]
  },
  {
   "cell_type": "code",
   "execution_count": 512,
   "metadata": {},
   "outputs": [
    {
     "name": "stdout",
     "output_type": "stream",
     "text": [
      "(128, 87, 1)\n",
      "9\n"
     ]
    }
   ],
   "source": [
    "print(X_train[0].shape)\n",
    "print(y_train[0])"
   ]
  },
  {
   "cell_type": "markdown",
   "metadata": {},
   "source": [
    "### One-Hot encoding for classes"
   ]
  },
  {
   "cell_type": "code",
   "execution_count": 513,
   "metadata": {},
   "outputs": [],
   "source": [
    "y_train = np.array(keras.utils.to_categorical(y_train, 10))\n",
    "y_test_values=y_test\n",
    "y_test = np.array(keras.utils.to_categorical(y_test, 10))"
   ]
  },
  {
   "cell_type": "code",
   "execution_count": 514,
   "metadata": {},
   "outputs": [
    {
     "name": "stdout",
     "output_type": "stream",
     "text": [
      "[0. 1. 0. 0. 0. 0. 0. 0. 0. 0.]\n"
     ]
    }
   ],
   "source": [
    "print(y_train[0])"
   ]
  },
  {
   "cell_type": "markdown",
   "metadata": {},
   "source": [
    "### Model"
   ]
  },
  {
   "cell_type": "code",
   "execution_count": 515,
   "metadata": {},
   "outputs": [],
   "source": [
    "model = Sequential()\n",
    "input_shape=(128, 87, 1)\n",
    "\n",
    "model.add(Conv2D(24, (5, 5), strides=(1, 1), input_shape=input_shape))\n",
    "model.add(MaxPooling2D((4, 2), strides=(4, 2)))\n",
    "model.add(Activation('relu'))\n",
    "\n",
    "model.add(Conv2D(48, (5, 5), padding=\"valid\"))\n",
    "model.add(MaxPooling2D((4, 2), strides=(4, 2)))\n",
    "model.add(Activation('relu'))\n",
    "\n",
    "model.add(Conv2D(48, (5, 5), padding=\"valid\"))\n",
    "model.add(Activation('relu'))\n",
    "\n",
    "model.add(Flatten())\n",
    "model.add(Dropout(rate=0.5))\n",
    "\n",
    "model.add(Dense(64))\n",
    "model.add(Activation('relu'))\n",
    "model.add(Dropout(rate=0.5))\n",
    "\n",
    "model.add(Dense(10))\n",
    "model.add(Activation('softmax'))"
   ]
  },
  {
   "cell_type": "code",
   "execution_count": 516,
   "metadata": {},
   "outputs": [
    {
     "name": "stdout",
     "output_type": "stream",
     "text": [
      "Model: \"sequential_3\"\n",
      "_________________________________________________________________\n",
      "Layer (type)                 Output Shape              Param #   \n",
      "=================================================================\n",
      "conv2d_7 (Conv2D)            (None, 124, 83, 24)       624       \n",
      "_________________________________________________________________\n",
      "max_pooling2d_5 (MaxPooling2 (None, 31, 41, 24)        0         \n",
      "_________________________________________________________________\n",
      "activation_11 (Activation)   (None, 31, 41, 24)        0         \n",
      "_________________________________________________________________\n",
      "conv2d_8 (Conv2D)            (None, 27, 37, 48)        28848     \n",
      "_________________________________________________________________\n",
      "max_pooling2d_6 (MaxPooling2 (None, 6, 18, 48)         0         \n",
      "_________________________________________________________________\n",
      "activation_12 (Activation)   (None, 6, 18, 48)         0         \n",
      "_________________________________________________________________\n",
      "conv2d_9 (Conv2D)            (None, 2, 14, 48)         57648     \n",
      "_________________________________________________________________\n",
      "activation_13 (Activation)   (None, 2, 14, 48)         0         \n",
      "_________________________________________________________________\n",
      "flatten_3 (Flatten)          (None, 1344)              0         \n",
      "_________________________________________________________________\n",
      "dropout_5 (Dropout)          (None, 1344)              0         \n",
      "_________________________________________________________________\n",
      "dense_5 (Dense)              (None, 64)                86080     \n",
      "_________________________________________________________________\n",
      "activation_14 (Activation)   (None, 64)                0         \n",
      "_________________________________________________________________\n",
      "dropout_6 (Dropout)          (None, 64)                0         \n",
      "_________________________________________________________________\n",
      "dense_6 (Dense)              (None, 10)                650       \n",
      "_________________________________________________________________\n",
      "activation_15 (Activation)   (None, 10)                0         \n",
      "=================================================================\n",
      "Total params: 173,850\n",
      "Trainable params: 173,850\n",
      "Non-trainable params: 0\n",
      "_________________________________________________________________\n"
     ]
    }
   ],
   "source": [
    "model.summary()\n"
   ]
  },
  {
   "cell_type": "code",
   "execution_count": 517,
   "metadata": {},
   "outputs": [],
   "source": [
    "def precision(y_true, y_pred):\n",
    "    '''Calculates the precision, a metric for multi-label classification of\n",
    "    how many selected items are relevant.\n",
    "    '''\n",
    "    true_positives = K.sum(K.round(K.clip(y_true * y_pred, 0, 1)))\n",
    "    predicted_positives = K.sum(K.round(K.clip(y_pred, 0, 1)))\n",
    "    precision = true_positives / (predicted_positives + K.epsilon())\n",
    "    return precision\n",
    "\n",
    "\n",
    "def recall(y_true, y_pred):\n",
    "    '''Calculates the recall, a metric for multi-label classification of\n",
    "    how many relevant items are selected.\n",
    "    '''\n",
    "    true_positives = K.sum(K.round(K.clip(y_true * y_pred, 0, 1)))\n",
    "    possible_positives = K.sum(K.round(K.clip(y_true, 0, 1)))\n",
    "    recall = true_positives / (possible_positives + K.epsilon())\n",
    "    return recall\n",
    "\n",
    "\n",
    "def fbeta_score(y_true, y_pred, beta=1):\n",
    "    '''Calculates the F score, the weighted harmonic mean of precision and recall.\n",
    "    This is useful for multi-label classification, where input samples can be\n",
    "    classified as sets of labels. By only using accuracy (precision) a model\n",
    "    would achieve a perfect score by simply assigning every class to every\n",
    "    input. In order to avoid this, a metric should penalize incorrect class\n",
    "    assignments as well (recall). The F-beta score (ranged from 0.0 to 1.0)\n",
    "    computes this, as a weighted mean of the proportion of correct class\n",
    "    assignments vs. the proportion of incorrect class assignments.\n",
    "    With beta = 1, this is equivalent to a F-measure. With beta < 1, assigning\n",
    "    correct classes becomes more important, and with beta > 1 the metric is\n",
    "    instead weighted towards penalizing incorrect class assignments.\n",
    "    '''\n",
    "    if beta < 0:\n",
    "        raise ValueError('The lowest choosable beta is zero (only precision).')\n",
    "        \n",
    "    # If there are no true positives, fix the F score at 0 like sklearn.\n",
    "    if K.sum(K.round(K.clip(y_true, 0, 1))) == 0:\n",
    "        return 0\n",
    "\n",
    "    p = precision(y_true, y_pred)\n",
    "    r = recall(y_true, y_pred)\n",
    "    bb = beta ** 2\n",
    "    fbeta_score = (1 + bb) * (p * r) / (bb * p + r + K.epsilon())\n",
    "    return fbeta_score\n",
    "\n",
    "\n",
    "def fmeasure(y_true, y_pred):\n",
    "    '''Calculates the f-measure, the harmonic mean of precision and recall.\n",
    "    '''\n",
    "    return fbeta_score(y_true, y_pred, beta=1)"
   ]
  },
  {
   "cell_type": "code",
   "execution_count": 518,
   "metadata": {},
   "outputs": [
    {
     "name": "stdout",
     "output_type": "stream",
     "text": [
      "Train on 920 samples, validate on 230 samples\n",
      "Epoch 1/70\n",
      "920/920 [==============================] - 4s 4ms/step - loss: 2.3751 - accuracy: 0.1174 - precision: 0.2326 - recall: 0.0217 - fmeasure: 0.0389 - val_loss: 2.1969 - val_accuracy: 0.1261 - val_precision: 0.0417 - val_recall: 0.0042 - val_fmeasure: 0.0076\n",
      "Epoch 2/70\n",
      "920/920 [==============================] - 3s 3ms/step - loss: 2.2245 - accuracy: 0.1576 - precision: 0.2319 - recall: 0.0185 - fmeasure: 0.0335 - val_loss: 2.1098 - val_accuracy: 0.2087 - val_precision: 0.3333 - val_recall: 0.0208 - val_fmeasure: 0.0390\n",
      "Epoch 3/70\n",
      "920/920 [==============================] - 3s 3ms/step - loss: 2.2010 - accuracy: 0.1793 - precision: 0.2446 - recall: 0.0207 - fmeasure: 0.0374 - val_loss: 2.0489 - val_accuracy: 0.2652 - val_precision: 0.1250 - val_recall: 0.0125 - val_fmeasure: 0.0227\n",
      "Epoch 4/70\n",
      "920/920 [==============================] - 3s 3ms/step - loss: 2.0950 - accuracy: 0.2130 - precision: 0.4652 - recall: 0.0500 - fmeasure: 0.0889 - val_loss: 2.0239 - val_accuracy: 0.2000 - val_precision: 0.3229 - val_recall: 0.0417 - val_fmeasure: 0.0716\n",
      "Epoch 5/70\n",
      "920/920 [==============================] - 3s 3ms/step - loss: 2.0532 - accuracy: 0.2598 - precision: 0.5620 - recall: 0.0793 - fmeasure: 0.1342 - val_loss: 1.9908 - val_accuracy: 0.2609 - val_precision: 0.4444 - val_recall: 0.0750 - val_fmeasure: 0.1209\n",
      "Epoch 6/70\n",
      "920/920 [==============================] - 3s 3ms/step - loss: 2.0145 - accuracy: 0.2522 - precision: 0.5609 - recall: 0.0707 - fmeasure: 0.1220 - val_loss: 1.9359 - val_accuracy: 0.2304 - val_precision: 0.5787 - val_recall: 0.1167 - val_fmeasure: 0.1825\n",
      "Epoch 7/70\n",
      "920/920 [==============================] - 3s 3ms/step - loss: 1.9951 - accuracy: 0.2848 - precision: 0.7572 - recall: 0.1174 - fmeasure: 0.1980 - val_loss: 1.9254 - val_accuracy: 0.2522 - val_precision: 0.6370 - val_recall: 0.1458 - val_fmeasure: 0.2237\n",
      "Epoch 8/70\n",
      "920/920 [==============================] - 3s 3ms/step - loss: 1.8784 - accuracy: 0.3120 - precision: 0.8387 - recall: 0.1511 - fmeasure: 0.2482 - val_loss: 1.7683 - val_accuracy: 0.3130 - val_precision: 0.7333 - val_recall: 0.2292 - val_fmeasure: 0.3327\n",
      "Epoch 9/70\n",
      "920/920 [==============================] - 3s 3ms/step - loss: 1.9054 - accuracy: 0.2913 - precision: 0.7702 - recall: 0.1533 - fmeasure: 0.2490 - val_loss: 1.7713 - val_accuracy: 0.3087 - val_precision: 0.7153 - val_recall: 0.2083 - val_fmeasure: 0.3056\n",
      "Epoch 10/70\n",
      "920/920 [==============================] - 3s 3ms/step - loss: 1.8142 - accuracy: 0.3511 - precision: 0.8749 - recall: 0.2022 - fmeasure: 0.3213 - val_loss: 1.7484 - val_accuracy: 0.3522 - val_precision: 0.7216 - val_recall: 0.2167 - val_fmeasure: 0.3167\n",
      "Epoch 11/70\n",
      "920/920 [==============================] - 3s 3ms/step - loss: 1.7351 - accuracy: 0.3467 - precision: 0.9100 - recall: 0.2174 - fmeasure: 0.3428 - val_loss: 1.7086 - val_accuracy: 0.3087 - val_precision: 0.7099 - val_recall: 0.2292 - val_fmeasure: 0.3271\n",
      "Epoch 12/70\n",
      "920/920 [==============================] - 3s 3ms/step - loss: 1.7166 - accuracy: 0.3598 - precision: 0.9409 - recall: 0.2315 - fmeasure: 0.3645 - val_loss: 1.6458 - val_accuracy: 0.3478 - val_precision: 0.8333 - val_recall: 0.2625 - val_fmeasure: 0.3711\n",
      "Epoch 13/70\n",
      "920/920 [==============================] - 3s 3ms/step - loss: 1.6921 - accuracy: 0.3783 - precision: 0.9245 - recall: 0.2391 - fmeasure: 0.3733 - val_loss: 1.8124 - val_accuracy: 0.3043 - val_precision: 0.8504 - val_recall: 0.2417 - val_fmeasure: 0.3496\n",
      "Epoch 14/70\n",
      "920/920 [==============================] - 3s 3ms/step - loss: 1.6982 - accuracy: 0.3772 - precision: 0.9371 - recall: 0.2370 - fmeasure: 0.3686 - val_loss: 1.7978 - val_accuracy: 0.3565 - val_precision: 0.8702 - val_recall: 0.2500 - val_fmeasure: 0.3579\n",
      "Epoch 15/70\n",
      "920/920 [==============================] - 3s 3ms/step - loss: 1.7655 - accuracy: 0.3587 - precision: 0.8843 - recall: 0.2326 - fmeasure: 0.3606 - val_loss: 1.7177 - val_accuracy: 0.3261 - val_precision: 0.8720 - val_recall: 0.2542 - val_fmeasure: 0.3627\n",
      "Epoch 16/70\n",
      "920/920 [==============================] - 3s 3ms/step - loss: 1.6352 - accuracy: 0.3935 - precision: 0.9402 - recall: 0.2609 - fmeasure: 0.4002 - val_loss: 1.7044 - val_accuracy: 0.3957 - val_precision: 0.8651 - val_recall: 0.2583 - val_fmeasure: 0.3658\n",
      "Epoch 17/70\n",
      "920/920 [==============================] - 3s 3ms/step - loss: 1.6142 - accuracy: 0.4217 - precision: 0.9232 - recall: 0.2630 - fmeasure: 0.4028 - val_loss: 1.5525 - val_accuracy: 0.4348 - val_precision: 0.8709 - val_recall: 0.2708 - val_fmeasure: 0.3790\n",
      "Epoch 18/70\n",
      "920/920 [==============================] - 3s 3ms/step - loss: 1.5803 - accuracy: 0.4467 - precision: 0.9440 - recall: 0.2674 - fmeasure: 0.4081 - val_loss: 1.4643 - val_accuracy: 0.4870 - val_precision: 0.8924 - val_recall: 0.2750 - val_fmeasure: 0.3872\n",
      "Epoch 19/70\n",
      "920/920 [==============================] - 3s 3ms/step - loss: 1.4668 - accuracy: 0.4598 - precision: 0.9697 - recall: 0.2804 - fmeasure: 0.4221 - val_loss: 1.4047 - val_accuracy: 0.4522 - val_precision: 0.8935 - val_recall: 0.2833 - val_fmeasure: 0.3977\n",
      "Epoch 20/70\n",
      "920/920 [==============================] - 3s 3ms/step - loss: 1.4209 - accuracy: 0.4848 - precision: 0.9445 - recall: 0.2891 - fmeasure: 0.4339 - val_loss: 1.6332 - val_accuracy: 0.4913 - val_precision: 0.8107 - val_recall: 0.2667 - val_fmeasure: 0.3720\n",
      "Epoch 21/70\n",
      "920/920 [==============================] - 3s 3ms/step - loss: 1.5362 - accuracy: 0.4533 - precision: 0.8708 - recall: 0.2674 - fmeasure: 0.4008 - val_loss: 1.4265 - val_accuracy: 0.5391 - val_precision: 0.8317 - val_recall: 0.2750 - val_fmeasure: 0.3835\n",
      "Epoch 22/70\n",
      "920/920 [==============================] - 3s 4ms/step - loss: 1.4363 - accuracy: 0.4707 - precision: 0.8536 - recall: 0.3000 - fmeasure: 0.4349 - val_loss: 1.6140 - val_accuracy: 0.5217 - val_precision: 0.7968 - val_recall: 0.2583 - val_fmeasure: 0.3566\n",
      "Epoch 23/70\n",
      "920/920 [==============================] - 3s 3ms/step - loss: 1.5249 - accuracy: 0.4924 - precision: 0.8717 - recall: 0.3087 - fmeasure: 0.4499 - val_loss: 1.5614 - val_accuracy: 0.5304 - val_precision: 0.8160 - val_recall: 0.3125 - val_fmeasure: 0.4164\n",
      "Epoch 24/70\n",
      "920/920 [==============================] - 3s 3ms/step - loss: 1.3786 - accuracy: 0.5315 - precision: 0.8554 - recall: 0.3000 - fmeasure: 0.4351 - val_loss: 1.2489 - val_accuracy: 0.5783 - val_precision: 0.8678 - val_recall: 0.3375 - val_fmeasure: 0.4506\n",
      "Epoch 25/70\n",
      "920/920 [==============================] - 3s 3ms/step - loss: 1.4113 - accuracy: 0.5283 - precision: 0.8973 - recall: 0.3337 - fmeasure: 0.4780 - val_loss: 1.3748 - val_accuracy: 0.5522 - val_precision: 0.8508 - val_recall: 0.3500 - val_fmeasure: 0.4615\n",
      "Epoch 26/70\n",
      "920/920 [==============================] - 3s 3ms/step - loss: 1.2654 - accuracy: 0.5446 - precision: 0.8457 - recall: 0.3250 - fmeasure: 0.4619 - val_loss: 1.1595 - val_accuracy: 0.5870 - val_precision: 0.8922 - val_recall: 0.3792 - val_fmeasure: 0.4924\n",
      "Epoch 27/70\n",
      "920/920 [==============================] - 3s 3ms/step - loss: 1.1691 - accuracy: 0.5989 - precision: 0.8859 - recall: 0.3380 - fmeasure: 0.4787 - val_loss: 1.0490 - val_accuracy: 0.6304 - val_precision: 0.8768 - val_recall: 0.3792 - val_fmeasure: 0.4909\n",
      "Epoch 28/70\n",
      "920/920 [==============================] - 3s 3ms/step - loss: 1.1169 - accuracy: 0.5924 - precision: 0.8770 - recall: 0.3674 - fmeasure: 0.5070 - val_loss: 1.0212 - val_accuracy: 0.6217 - val_precision: 0.8988 - val_recall: 0.4042 - val_fmeasure: 0.5182\n",
      "Epoch 29/70\n",
      "920/920 [==============================] - 3s 3ms/step - loss: 1.0441 - accuracy: 0.6370 - precision: 0.8828 - recall: 0.3924 - fmeasure: 0.5347 - val_loss: 0.9374 - val_accuracy: 0.6391 - val_precision: 0.8737 - val_recall: 0.4125 - val_fmeasure: 0.5206\n",
      "Epoch 30/70\n",
      "920/920 [==============================] - 3s 3ms/step - loss: 1.0093 - accuracy: 0.6283 - precision: 0.8517 - recall: 0.4239 - fmeasure: 0.5598 - val_loss: 0.9427 - val_accuracy: 0.6652 - val_precision: 0.8595 - val_recall: 0.4583 - val_fmeasure: 0.5707\n",
      "Epoch 31/70\n",
      "920/920 [==============================] - 3s 3ms/step - loss: 0.9217 - accuracy: 0.6815 - precision: 0.8722 - recall: 0.4826 - fmeasure: 0.6165 - val_loss: 0.8076 - val_accuracy: 0.7000 - val_precision: 0.8340 - val_recall: 0.5042 - val_fmeasure: 0.6127\n",
      "Epoch 32/70\n",
      "920/920 [==============================] - 3s 3ms/step - loss: 0.8359 - accuracy: 0.6848 - precision: 0.8525 - recall: 0.5228 - fmeasure: 0.6454 - val_loss: 0.7416 - val_accuracy: 0.7130 - val_precision: 0.8633 - val_recall: 0.5250 - val_fmeasure: 0.6304\n",
      "Epoch 33/70\n",
      "920/920 [==============================] - 3s 3ms/step - loss: 0.7977 - accuracy: 0.6902 - precision: 0.8273 - recall: 0.5326 - fmeasure: 0.6447 - val_loss: 0.6948 - val_accuracy: 0.7522 - val_precision: 0.9267 - val_recall: 0.5958 - val_fmeasure: 0.7099\n",
      "Epoch 34/70\n",
      "920/920 [==============================] - 3s 3ms/step - loss: 0.7579 - accuracy: 0.7185 - precision: 0.8485 - recall: 0.5576 - fmeasure: 0.6685 - val_loss: 0.6603 - val_accuracy: 0.7522 - val_precision: 0.8962 - val_recall: 0.6208 - val_fmeasure: 0.7249\n",
      "Epoch 35/70\n",
      "920/920 [==============================] - 3s 3ms/step - loss: 0.7256 - accuracy: 0.7228 - precision: 0.8266 - recall: 0.5750 - fmeasure: 0.6754 - val_loss: 0.6308 - val_accuracy: 0.7696 - val_precision: 0.8835 - val_recall: 0.6792 - val_fmeasure: 0.7647\n",
      "Epoch 36/70\n",
      "920/920 [==============================] - 3s 3ms/step - loss: 0.7534 - accuracy: 0.7467 - precision: 0.8466 - recall: 0.6054 - fmeasure: 0.7030 - val_loss: 0.6119 - val_accuracy: 0.8130 - val_precision: 0.9143 - val_recall: 0.6625 - val_fmeasure: 0.7632\n",
      "Epoch 37/70\n",
      "920/920 [==============================] - 3s 3ms/step - loss: 0.7208 - accuracy: 0.7370 - precision: 0.8377 - recall: 0.6293 - fmeasure: 0.7144 - val_loss: 0.6109 - val_accuracy: 0.8130 - val_precision: 0.8883 - val_recall: 0.6875 - val_fmeasure: 0.7719\n",
      "Epoch 38/70\n",
      "920/920 [==============================] - 3s 3ms/step - loss: 0.6819 - accuracy: 0.7587 - precision: 0.8414 - recall: 0.6337 - fmeasure: 0.7188 - val_loss: 1.9266 - val_accuracy: 0.7783 - val_precision: 0.8614 - val_recall: 0.6667 - val_fmeasure: 0.7496\n",
      "Epoch 39/70\n",
      "920/920 [==============================] - 3s 3ms/step - loss: 0.7545 - accuracy: 0.7457 - precision: 0.8432 - recall: 0.6457 - fmeasure: 0.7279 - val_loss: 0.6204 - val_accuracy: 0.8304 - val_precision: 0.9257 - val_recall: 0.7042 - val_fmeasure: 0.7977\n",
      "Epoch 40/70\n",
      "920/920 [==============================] - 3s 3ms/step - loss: 1.1984 - accuracy: 0.6870 - precision: 0.8095 - recall: 0.5609 - fmeasure: 0.6594 - val_loss: 0.9283 - val_accuracy: 0.7000 - val_precision: 0.8177 - val_recall: 0.6417 - val_fmeasure: 0.7095\n",
      "Epoch 41/70\n",
      "920/920 [==============================] - 3s 3ms/step - loss: 0.8435 - accuracy: 0.7315 - precision: 0.8244 - recall: 0.6207 - fmeasure: 0.7064 - val_loss: 0.6360 - val_accuracy: 0.7957 - val_precision: 0.8839 - val_recall: 0.6708 - val_fmeasure: 0.7603\n",
      "Epoch 42/70\n",
      "920/920 [==============================] - 3s 3ms/step - loss: 0.6054 - accuracy: 0.7859 - precision: 0.8628 - recall: 0.6978 - fmeasure: 0.7696 - val_loss: 0.4791 - val_accuracy: 0.8348 - val_precision: 0.8878 - val_recall: 0.7292 - val_fmeasure: 0.7976\n",
      "Epoch 43/70\n",
      "920/920 [==============================] - 3s 3ms/step - loss: 0.5101 - accuracy: 0.8141 - precision: 0.8708 - recall: 0.7380 - fmeasure: 0.7972 - val_loss: 1.7107 - val_accuracy: 0.8087 - val_precision: 0.8396 - val_recall: 0.7583 - val_fmeasure: 0.7960\n",
      "Epoch 44/70\n",
      "920/920 [==============================] - 3s 3ms/step - loss: 0.5451 - accuracy: 0.7902 - precision: 0.8538 - recall: 0.7217 - fmeasure: 0.7805 - val_loss: 0.4065 - val_accuracy: 0.8652 - val_precision: 0.9061 - val_recall: 0.7917 - val_fmeasure: 0.8427\n",
      "Epoch 45/70\n",
      "920/920 [==============================] - 3s 3ms/step - loss: 0.4776 - accuracy: 0.8261 - precision: 0.8871 - recall: 0.7489 - fmeasure: 0.8105 - val_loss: 0.3297 - val_accuracy: 0.8739 - val_precision: 0.9140 - val_recall: 0.8167 - val_fmeasure: 0.8607\n",
      "Epoch 46/70\n",
      "920/920 [==============================] - 3s 3ms/step - loss: 0.4486 - accuracy: 0.8185 - precision: 0.8735 - recall: 0.7652 - fmeasure: 0.8143 - val_loss: 0.3039 - val_accuracy: 0.8957 - val_precision: 0.9285 - val_recall: 0.8500 - val_fmeasure: 0.8862\n",
      "Epoch 47/70\n",
      "920/920 [==============================] - 3s 3ms/step - loss: 0.4331 - accuracy: 0.8478 - precision: 0.8959 - recall: 0.7826 - fmeasure: 0.8334 - val_loss: 0.3158 - val_accuracy: 0.8870 - val_precision: 0.9234 - val_recall: 0.8625 - val_fmeasure: 0.8907\n",
      "Epoch 48/70\n",
      "920/920 [==============================] - 3s 3ms/step - loss: 0.7206 - accuracy: 0.7837 - precision: 0.8516 - recall: 0.7054 - fmeasure: 0.7695 - val_loss: 0.5800 - val_accuracy: 0.8174 - val_precision: 0.8352 - val_recall: 0.7417 - val_fmeasure: 0.7835\n",
      "Epoch 49/70\n",
      "920/920 [==============================] - 3s 3ms/step - loss: 0.5464 - accuracy: 0.8272 - precision: 0.8749 - recall: 0.7500 - fmeasure: 0.8056 - val_loss: 0.3833 - val_accuracy: 0.8913 - val_precision: 0.9254 - val_recall: 0.8250 - val_fmeasure: 0.8693\n",
      "Epoch 50/70\n",
      "920/920 [==============================] - 3s 3ms/step - loss: 0.4411 - accuracy: 0.8293 - precision: 0.8775 - recall: 0.7750 - fmeasure: 0.8218 - val_loss: 0.3576 - val_accuracy: 0.9087 - val_precision: 0.9387 - val_recall: 0.8625 - val_fmeasure: 0.8980\n",
      "Epoch 51/70\n",
      "920/920 [==============================] - 4s 4ms/step - loss: 0.3870 - accuracy: 0.8543 - precision: 0.8976 - recall: 0.8109 - fmeasure: 0.8510 - val_loss: 0.3048 - val_accuracy: 0.8957 - val_precision: 0.9191 - val_recall: 0.8667 - val_fmeasure: 0.8909\n",
      "Epoch 52/70\n",
      "920/920 [==============================] - 3s 3ms/step - loss: 0.3735 - accuracy: 0.8620 - precision: 0.8935 - recall: 0.8163 - fmeasure: 0.8518 - val_loss: 0.3071 - val_accuracy: 0.8957 - val_precision: 0.8982 - val_recall: 0.8500 - val_fmeasure: 0.8724\n",
      "Epoch 53/70\n",
      "920/920 [==============================] - 3s 3ms/step - loss: 0.3796 - accuracy: 0.8663 - precision: 0.9010 - recall: 0.8370 - fmeasure: 0.8671 - val_loss: 0.2717 - val_accuracy: 0.9087 - val_precision: 0.9211 - val_recall: 0.8917 - val_fmeasure: 0.9057\n",
      "Epoch 54/70\n",
      "920/920 [==============================] - 3s 3ms/step - loss: 0.3242 - accuracy: 0.8848 - precision: 0.9144 - recall: 0.8522 - fmeasure: 0.8815 - val_loss: 0.4189 - val_accuracy: 0.9174 - val_precision: 0.9235 - val_recall: 0.9000 - val_fmeasure: 0.9110\n",
      "Epoch 55/70\n",
      "920/920 [==============================] - 4s 4ms/step - loss: 0.4834 - accuracy: 0.8576 - precision: 0.8837 - recall: 0.8283 - fmeasure: 0.8543 - val_loss: 0.2894 - val_accuracy: 0.9130 - val_precision: 0.9216 - val_recall: 0.8833 - val_fmeasure: 0.9014\n",
      "Epoch 56/70\n",
      "920/920 [==============================] - 3s 3ms/step - loss: 0.4114 - accuracy: 0.8772 - precision: 0.9060 - recall: 0.8370 - fmeasure: 0.8692 - val_loss: 0.2604 - val_accuracy: 0.9261 - val_precision: 0.9436 - val_recall: 0.9042 - val_fmeasure: 0.9228\n",
      "Epoch 57/70\n",
      "920/920 [==============================] - 3s 3ms/step - loss: 0.4025 - accuracy: 0.8870 - precision: 0.9315 - recall: 0.8457 - fmeasure: 0.8850 - val_loss: 0.2955 - val_accuracy: 0.9087 - val_precision: 0.9345 - val_recall: 0.9042 - val_fmeasure: 0.9186\n",
      "Epoch 58/70\n",
      "920/920 [==============================] - 3s 3ms/step - loss: 0.4154 - accuracy: 0.8685 - precision: 0.9045 - recall: 0.8391 - fmeasure: 0.8697 - val_loss: 0.4072 - val_accuracy: 0.8957 - val_precision: 0.9290 - val_recall: 0.8833 - val_fmeasure: 0.9047\n",
      "Epoch 59/70\n",
      "920/920 [==============================] - 3s 3ms/step - loss: 0.2996 - accuracy: 0.8946 - precision: 0.9252 - recall: 0.8598 - fmeasure: 0.8903 - val_loss: 0.2929 - val_accuracy: 0.9130 - val_precision: 0.9326 - val_recall: 0.9083 - val_fmeasure: 0.9200\n",
      "Epoch 60/70\n",
      "920/920 [==============================] - 3s 3ms/step - loss: 0.2620 - accuracy: 0.9076 - precision: 0.9328 - recall: 0.8804 - fmeasure: 0.9054 - val_loss: 0.2168 - val_accuracy: 0.9304 - val_precision: 0.9472 - val_recall: 0.9292 - val_fmeasure: 0.9378\n",
      "Epoch 61/70\n",
      "920/920 [==============================] - 3s 3ms/step - loss: 0.2605 - accuracy: 0.9163 - precision: 0.9333 - recall: 0.8935 - fmeasure: 0.9125 - val_loss: 0.2407 - val_accuracy: 0.9261 - val_precision: 0.9487 - val_recall: 0.9250 - val_fmeasure: 0.9364\n"
     ]
    },
    {
     "name": "stdout",
     "output_type": "stream",
     "text": [
      "Epoch 62/70\n",
      "920/920 [==============================] - 3s 3ms/step - loss: 0.2494 - accuracy: 0.9196 - precision: 0.9356 - recall: 0.9011 - fmeasure: 0.9177 - val_loss: 0.1794 - val_accuracy: 0.9217 - val_precision: 0.9331 - val_recall: 0.9250 - val_fmeasure: 0.9290\n",
      "Epoch 63/70\n",
      "920/920 [==============================] - 3s 3ms/step - loss: 0.2562 - accuracy: 0.9000 - precision: 0.9172 - recall: 0.8815 - fmeasure: 0.8987 - val_loss: 0.3966 - val_accuracy: 0.9174 - val_precision: 0.9285 - val_recall: 0.9167 - val_fmeasure: 0.9224\n",
      "Epoch 64/70\n",
      "920/920 [==============================] - 3s 3ms/step - loss: 0.2310 - accuracy: 0.9163 - precision: 0.9320 - recall: 0.9022 - fmeasure: 0.9163 - val_loss: 0.2894 - val_accuracy: 0.9348 - val_precision: 0.9489 - val_recall: 0.9292 - val_fmeasure: 0.9387\n",
      "Epoch 65/70\n",
      "920/920 [==============================] - 3s 3ms/step - loss: 0.2286 - accuracy: 0.9239 - precision: 0.9392 - recall: 0.9098 - fmeasure: 0.9239 - val_loss: 0.2054 - val_accuracy: 0.9304 - val_precision: 0.9419 - val_recall: 0.9208 - val_fmeasure: 0.9309\n",
      "Epoch 66/70\n",
      "920/920 [==============================] - 3s 3ms/step - loss: 0.2026 - accuracy: 0.9293 - precision: 0.9460 - recall: 0.9120 - fmeasure: 0.9283 - val_loss: 0.1885 - val_accuracy: 0.9391 - val_precision: 0.9485 - val_recall: 0.9292 - val_fmeasure: 0.9385\n",
      "Epoch 67/70\n",
      "920/920 [==============================] - 2s 3ms/step - loss: 0.2750 - accuracy: 0.9239 - precision: 0.9420 - recall: 0.9065 - fmeasure: 0.9236 - val_loss: 0.2416 - val_accuracy: 0.9522 - val_precision: 0.9529 - val_recall: 0.9417 - val_fmeasure: 0.9471\n",
      "Epoch 68/70\n",
      "920/920 [==============================] - 3s 3ms/step - loss: 0.2039 - accuracy: 0.9326 - precision: 0.9464 - recall: 0.9152 - fmeasure: 0.9302 - val_loss: 0.2051 - val_accuracy: 0.9522 - val_precision: 0.9572 - val_recall: 0.9500 - val_fmeasure: 0.9535\n",
      "Epoch 69/70\n",
      "920/920 [==============================] - 3s 3ms/step - loss: 0.2299 - accuracy: 0.9337 - precision: 0.9452 - recall: 0.9228 - fmeasure: 0.9336 - val_loss: 0.1576 - val_accuracy: 0.9565 - val_precision: 0.9583 - val_recall: 0.9458 - val_fmeasure: 0.9518\n",
      "Epoch 70/70\n",
      "920/920 [==============================] - 3s 3ms/step - loss: 0.1952 - accuracy: 0.9402 - precision: 0.9461 - recall: 0.9326 - fmeasure: 0.9392 - val_loss: 0.1470 - val_accuracy: 0.9565 - val_precision: 0.9644 - val_recall: 0.9417 - val_fmeasure: 0.9525\n",
      "230/230 [==============================] - 0s 621us/step\n",
      "Test loss: 0.14696222569631492\n",
      "Test accuracy: 0.95652174949646\n",
      "Test precision: 0.9671875238418579\n",
      "Test recall: 0.9453125\n",
      "Test f1-score: 0.9560251832008362\n"
     ]
    }
   ],
   "source": [
    "model.compile(\n",
    "\toptimizer=\"Adam\",\n",
    "\tloss=\"categorical_crossentropy\",\n",
    "\tmetrics=['accuracy', precision, recall,fmeasure])\n",
    "\n",
    "model.fit(\n",
    "\tx=X_train, \n",
    "\ty=y_train,\n",
    "    epochs=70,\n",
    "    batch_size=20,\n",
    "    validation_data= (X_test, y_test))\n",
    "\n",
    "score = model.evaluate(\n",
    "\tx=X_test,\n",
    "\ty=y_test)\n",
    "\n",
    "print('Test loss:', score[0])\n",
    "print('Test accuracy:', score[1])\n",
    "print('Test precision:', score[2])\n",
    "print('Test recall:', score[3])\n",
    "print('Test f1-score:', score[4])\n"
   ]
  },
  {
   "cell_type": "code",
   "execution_count": 521,
   "metadata": {},
   "outputs": [
    {
     "data": {
      "text/plain": [
       "(230,)"
      ]
     },
     "execution_count": 521,
     "metadata": {},
     "output_type": "execute_result"
    }
   ],
   "source": [
    "y_test_values.shape"
   ]
  },
  {
   "cell_type": "code",
   "execution_count": 522,
   "metadata": {},
   "outputs": [],
   "source": [
    "predictions = model.predict_classes(X_test)"
   ]
  },
  {
   "cell_type": "code",
   "execution_count": 523,
   "metadata": {},
   "outputs": [
    {
     "data": {
      "text/plain": [
       "array([[20,  1,  0,  0,  0,  0,  0,  0,  0,  0],\n",
       "       [ 0, 18,  0,  0,  0,  0,  0,  0,  0,  0],\n",
       "       [ 0,  0, 27,  0,  0,  0,  0,  0,  0,  0],\n",
       "       [ 0,  0,  0, 26,  0,  0,  0,  1,  0,  0],\n",
       "       [ 0,  0,  0,  1, 17,  5,  1,  0,  0,  0],\n",
       "       [ 0,  0,  0,  0,  0, 12,  0,  0,  0,  0],\n",
       "       [ 0,  0,  0,  0,  0,  0, 22,  1,  0,  0],\n",
       "       [ 0,  0,  0,  0,  0,  0,  0, 37,  0,  0],\n",
       "       [ 0,  0,  0,  0,  0,  0,  0,  0, 20,  0],\n",
       "       [ 0,  0,  0,  0,  0,  0,  0,  0,  0, 21]])"
      ]
     },
     "execution_count": 523,
     "metadata": {},
     "output_type": "execute_result"
    }
   ],
   "source": [
    "conf_mat=confusion_matrix(y_test_values, predictions, labels=range(10))\n",
    "conf_mat"
   ]
  },
  {
   "cell_type": "markdown",
   "metadata": {},
   "source": [
    "### Save model to disk"
   ]
  },
  {
   "cell_type": "markdown",
   "metadata": {},
   "source": [
    "### serialize model to JSON"
   ]
  },
  {
   "cell_type": "code",
   "execution_count": 524,
   "metadata": {},
   "outputs": [],
   "source": [
    "model_json = model.to_json()\n",
    "with open(MODEL_JSON, \"w\") as json_file:\n",
    "    json_file.write(model_json)"
   ]
  },
  {
   "cell_type": "markdown",
   "metadata": {},
   "source": [
    "### serialize weights to HDF5"
   ]
  },
  {
   "cell_type": "code",
   "execution_count": 525,
   "metadata": {},
   "outputs": [
    {
     "name": "stdout",
     "output_type": "stream",
     "text": [
      "Saved model to disk\n"
     ]
    }
   ],
   "source": [
    "model.save_weights(MODEL_H5)\n",
    "print(\"Saved model to disk\")"
   ]
  },
  {
   "cell_type": "markdown",
   "metadata": {},
   "source": [
    "## Data Augmentation"
   ]
  },
  {
   "cell_type": "code",
   "execution_count": 1,
   "metadata": {},
   "outputs": [],
   "source": [
    "def get_augmentation_count(df):\n",
    "    return df['augmentation'].value_counts()"
   ]
  },
  {
   "cell_type": "code",
   "execution_count": 219,
   "metadata": {},
   "outputs": [],
   "source": [
    "data_df_raw = pd.read_pickle(os.path.join(METADATA_DIR_RAW, 'data.pkl'))"
   ]
  },
  {
   "cell_type": "markdown",
   "metadata": {},
   "source": [
    "### 1. Vary Time"
   ]
  },
  {
   "cell_type": "code",
   "execution_count": null,
   "metadata": {},
   "outputs": [],
   "source": [
    "data_df_time_inc = augment_data(data_df_raw.copy(), kind='time', rate=1.07)\n",
    "                    \n",
    "\n",
    "data_df_time_dec = augment_data(data_df_raw.copy(), kind='time', rate=0.81)"
   ]
  },
  {
   "cell_type": "markdown",
   "metadata": {},
   "source": [
    "### 2. Vary pitch"
   ]
  },
  {
   "cell_type": "code",
   "execution_count": 239,
   "metadata": {},
   "outputs": [
    {
     "name": "stdout",
     "output_type": "stream",
     "text": [
      "After applying augment_data, shape of df = (4000, 8)\n",
      "Columns of df are Index(['file_path', 'file_name', 'class_name', 'class_ID', 'y', 'sr',\n",
      "       'spectrogram', 'augmentation'],\n",
      "      dtype='object')\n",
      "\n",
      "After applying augment_data, shape of df = (4000, 8)\n",
      "Columns of df are Index(['file_path', 'file_name', 'class_name', 'class_ID', 'y', 'sr',\n",
      "       'spectrogram', 'augmentation'],\n",
      "      dtype='object')\n",
      "\n"
     ]
    }
   ],
   "source": [
    "data_df_shift_20 = augment_data(data_df_raw.copy(), kind='pitch', rate=2.5)\n",
    "\n",
    "data_df_shift_25 = augment_data(data_df_raw.copy(), kind='pitch', rate=2)"
   ]
  },
  {
   "cell_type": "markdown",
   "metadata": {},
   "source": [
    "### Create Augmented Metada"
   ]
  },
  {
   "cell_type": "code",
   "execution_count": 264,
   "metadata": {},
   "outputs": [],
   "source": [
    "data_df_raw['augmentation'] = 'None'\n",
    "data_df_augmented_raw = pd.concat([data_df_raw, data_df_time_inc, data_df_time_dec, data_df_shift_20, data_df_shift_25], axis=0)"
   ]
  },
  {
   "cell_type": "code",
   "execution_count": 284,
   "metadata": {},
   "outputs": [
    {
     "name": "stdout",
     "output_type": "stream",
     "text": [
      "After applying add_shape, shape of df = (16000, 9)\n",
      "Columns of df are Index(['file_path', 'file_name', 'class_name', 'class_ID', 'y', 'sr',\n",
      "       'spectrogram', 'augmentation', 'shape'],\n",
      "      dtype='object')\n",
      "\n"
     ]
    }
   ],
   "source": [
    "data_df_augmented_raw = data_df_augmented_raw.pipe(add_shape)"
   ]
  },
  {
   "cell_type": "code",
   "execution_count": 312,
   "metadata": {},
   "outputs": [
    {
     "name": "stdout",
     "output_type": "stream",
     "text": [
      "After applying get_augmentation_count, shape of df = (5,)\n",
      "Columns of df are Index(['file_path', 'file_name', 'class_name', 'class_ID', 'y', 'sr',\n",
      "       'spectrogram', 'augmentation', 'shape'],\n",
      "      dtype='object')\n",
      "\n",
      "None         8000\n",
      "pitch_250    2000\n",
      "pitch_200    2000\n",
      "speed_81     2000\n",
      "speed_107    2000\n",
      "Name: augmentation, dtype: int64\n"
     ]
    }
   ],
   "source": [
    "print(get_augmentation_count(data_df_augmented_raw))"
   ]
  },
  {
   "cell_type": "code",
   "execution_count": 286,
   "metadata": {},
   "outputs": [
    {
     "name": "stdout",
     "output_type": "stream",
     "text": [
      "After applying get_count, shape of df = (10,)\n",
      "Columns of df are Index(['file_path', 'file_name', 'class_name', 'class_ID', 'y', 'sr',\n",
      "       'spectrogram', 'augmentation', 'shape'],\n",
      "      dtype='object')\n",
      "\n",
      "e     1600\n",
      "d     1600\n",
      "a     1600\n",
      "g     1600\n",
      "am    1600\n",
      "c     1600\n",
      "bm    1600\n",
      "f     1600\n",
      "dm    1600\n",
      "em    1600\n",
      "Name: class_name, dtype: int64\n"
     ]
    }
   ],
   "source": [
    "print(get_count(data_df_augmented_raw))"
   ]
  },
  {
   "cell_type": "code",
   "execution_count": 282,
   "metadata": {},
   "outputs": [
    {
     "data": {
      "text/html": [
       "<div>\n",
       "<style scoped>\n",
       "    .dataframe tbody tr th:only-of-type {\n",
       "        vertical-align: middle;\n",
       "    }\n",
       "\n",
       "    .dataframe tbody tr th {\n",
       "        vertical-align: top;\n",
       "    }\n",
       "\n",
       "    .dataframe thead th {\n",
       "        text-align: right;\n",
       "    }\n",
       "</style>\n",
       "<table border=\"1\" class=\"dataframe\">\n",
       "  <thead>\n",
       "    <tr style=\"text-align: right;\">\n",
       "      <th></th>\n",
       "      <th>file_path</th>\n",
       "      <th>file_name</th>\n",
       "      <th>class_name</th>\n",
       "      <th>class_ID</th>\n",
       "      <th>y</th>\n",
       "      <th>sr</th>\n",
       "      <th>spectrogram</th>\n",
       "      <th>augmentation</th>\n",
       "      <th>shape</th>\n",
       "    </tr>\n",
       "  </thead>\n",
       "  <tbody>\n",
       "    <tr>\n",
       "      <th>0</th>\n",
       "      <td>g/speed_107/g102.wav</td>\n",
       "      <td>g102.wav</td>\n",
       "      <td>g</td>\n",
       "      <td>9</td>\n",
       "      <td>[-0.07182093, -0.10744891, -0.06559521, -0.086...</td>\n",
       "      <td>22050</td>\n",
       "      <td>[[0.009544356, 0.18455605, 1.1824054, 0.513804...</td>\n",
       "      <td>speed_107</td>\n",
       "      <td>(128, 71)</td>\n",
       "    </tr>\n",
       "    <tr>\n",
       "      <th>1</th>\n",
       "      <td>g/speed_107/g194.wav</td>\n",
       "      <td>g194.wav</td>\n",
       "      <td>g</td>\n",
       "      <td>9</td>\n",
       "      <td>[0.0042471434, 0.0057702884, 0.005924746, 0.00...</td>\n",
       "      <td>22050</td>\n",
       "      <td>[[0.0091888, 0.0096358005, 0.0052495273, 0.006...</td>\n",
       "      <td>speed_107</td>\n",
       "      <td>(128, 72)</td>\n",
       "    </tr>\n",
       "    <tr>\n",
       "      <th>2</th>\n",
       "      <td>g/speed_107/g144.wav</td>\n",
       "      <td>g144.wav</td>\n",
       "      <td>g</td>\n",
       "      <td>9</td>\n",
       "      <td>[-1.4150559e-05, 0.0011950773, 0.0038850766, 0...</td>\n",
       "      <td>22050</td>\n",
       "      <td>[[0.02301405, 0.013076712, 0.005735046, 0.0057...</td>\n",
       "      <td>speed_107</td>\n",
       "      <td>(128, 81)</td>\n",
       "    </tr>\n",
       "    <tr>\n",
       "      <th>3</th>\n",
       "      <td>g/speed_107/g160.wav</td>\n",
       "      <td>g160.wav</td>\n",
       "      <td>g</td>\n",
       "      <td>9</td>\n",
       "      <td>[-0.00116409, -0.00061268755, -0.00042036132, ...</td>\n",
       "      <td>22050</td>\n",
       "      <td>[[0.0030068015, 0.008565176, 0.016034044, 0.00...</td>\n",
       "      <td>speed_107</td>\n",
       "      <td>(128, 81)</td>\n",
       "    </tr>\n",
       "    <tr>\n",
       "      <th>4</th>\n",
       "      <td>g/speed_107/g129.wav</td>\n",
       "      <td>g129.wav</td>\n",
       "      <td>g</td>\n",
       "      <td>9</td>\n",
       "      <td>[-0.005619276, -0.006499503, 0.00010849091, 0....</td>\n",
       "      <td>22050</td>\n",
       "      <td>[[0.011926388, 0.008582427, 0.0061589293, 0.00...</td>\n",
       "      <td>speed_107</td>\n",
       "      <td>(128, 81)</td>\n",
       "    </tr>\n",
       "  </tbody>\n",
       "</table>\n",
       "</div>"
      ],
      "text/plain": [
       "              file_path file_name class_name  class_ID  \\\n",
       "0  g/speed_107/g102.wav  g102.wav          g         9   \n",
       "1  g/speed_107/g194.wav  g194.wav          g         9   \n",
       "2  g/speed_107/g144.wav  g144.wav          g         9   \n",
       "3  g/speed_107/g160.wav  g160.wav          g         9   \n",
       "4  g/speed_107/g129.wav  g129.wav          g         9   \n",
       "\n",
       "                                                   y     sr  \\\n",
       "0  [-0.07182093, -0.10744891, -0.06559521, -0.086...  22050   \n",
       "1  [0.0042471434, 0.0057702884, 0.005924746, 0.00...  22050   \n",
       "2  [-1.4150559e-05, 0.0011950773, 0.0038850766, 0...  22050   \n",
       "3  [-0.00116409, -0.00061268755, -0.00042036132, ...  22050   \n",
       "4  [-0.005619276, -0.006499503, 0.00010849091, 0....  22050   \n",
       "\n",
       "                                         spectrogram augmentation      shape  \n",
       "0  [[0.009544356, 0.18455605, 1.1824054, 0.513804...    speed_107  (128, 71)  \n",
       "1  [[0.0091888, 0.0096358005, 0.0052495273, 0.006...    speed_107  (128, 72)  \n",
       "2  [[0.02301405, 0.013076712, 0.005735046, 0.0057...    speed_107  (128, 81)  \n",
       "3  [[0.0030068015, 0.008565176, 0.016034044, 0.00...    speed_107  (128, 81)  \n",
       "4  [[0.011926388, 0.008582427, 0.0061589293, 0.00...    speed_107  (128, 81)  "
      ]
     },
     "execution_count": 282,
     "metadata": {},
     "output_type": "execute_result"
    }
   ],
   "source": [
    "data_df_augmented_raw.head()"
   ]
  },
  {
   "cell_type": "markdown",
   "metadata": {},
   "source": [
    "### Save augmented raw data"
   ]
  },
  {
   "cell_type": "code",
   "execution_count": 268,
   "metadata": {},
   "outputs": [
    {
     "name": "stdout",
     "output_type": "stream",
     "text": [
      "After applying get_count, shape of df = (10,)\n",
      "Columns of df are Index(['file_path', 'file_name', 'class_name', 'class_ID', 'y', 'sr',\n",
      "       'spectrogram', 'augmentation'],\n",
      "      dtype='object')\n",
      "\n",
      "e     1600\n",
      "d     1600\n",
      "a     1600\n",
      "g     1600\n",
      "am    1600\n",
      "c     1600\n",
      "bm    1600\n",
      "f     1600\n",
      "dm    1600\n",
      "em    1600\n",
      "Name: class_name, dtype: int64\n"
     ]
    }
   ],
   "source": [
    "data_df_augmented_raw.to_csv(os.path.join(METADATA_DIR_AUGMENTED_RAW, 'data.csv'), index=False)\n"
   ]
  },
  {
   "cell_type": "markdown",
   "metadata": {},
   "source": [
    "### Process and save processed augmented data"
   ]
  },
  {
   "cell_type": "code",
   "execution_count": 10,
   "metadata": {},
   "outputs": [],
   "source": [
    "data_df_augmented_raw = pd.read_pickle(os.path.join(METADATA_DIR_AUGMENTED_RAW, 'data.pkl'))"
   ]
  },
  {
   "cell_type": "code",
   "execution_count": 13,
   "metadata": {},
   "outputs": [],
   "source": [
    "# Maintain same shape\n",
    "@df_info\n",
    "def clean_shape(df):\n",
    "    max_shape = df['spectrogram'].map(lambda x: x.shape).value_counts().index[0]\n",
    "    print(f\"The most frequent shape is {max_shape}\")\n",
    "    df['shape'] = df['spectrogram'].map(lambda x: x.shape)\n",
    "    df = df[df['shape']==max_shape]\n",
    "    df.drop(columns='shape', inplace=True)\n",
    "    df.reset_index(drop=True, inplace=True)\n",
    "    return df\n",
    "\n",
    "@df_info\n",
    "def process_augmented(df):\n",
    "    df = (df.pipe(clean_shape)\n",
    "            .pipe(over_sample)\n",
    "    )\n",
    "    df = df[['spectrogram','class_ID', 'class_name', 'augmentation']]\n",
    "    \n",
    "    return df\n",
    "\n",
    "#Over sampling data\n",
    "@df_info\n",
    "def over_sample(df):\n",
    "    oversample = RandomOverSampler(sampling_strategy='auto')\n",
    "    X, y = df[['spectrogram', 'augmentation']].values, df['class_ID'].values\n",
    "#     X = X.reshape(-1, 1)\n",
    "    X, y = oversample.fit_resample(X, y)\n",
    "    df = pd.DataFrame()\n",
    "    df['spectrogram'] = pd.Series([np.array(x[0]) for x in X])\n",
    "    df['augmentation'] = pd.Series([np.array(x[1]) for x in X])\n",
    "    df['augmentation'] = df['augmentation'].map(lambda x: str(x))\n",
    "    df['class_ID'] = pd.Series(y)\n",
    "    df['class_name'] = df['class_ID'].map(lambda x: get_class(x))\n",
    "    return df"
   ]
  },
  {
   "cell_type": "code",
   "execution_count": 12,
   "metadata": {},
   "outputs": [],
   "source": [
    "data_df_augmented_processed = process_augmented(data_df_augmented_raw)"
   ]
  },
  {
   "cell_type": "code",
   "execution_count": 288,
   "metadata": {},
   "outputs": [
    {
     "name": "stdout",
     "output_type": "stream",
     "text": [
      "The most frequent shape is (128, 87)\n",
      "After applying clean_shape, shape of df = (3830, 8)\n",
      "Columns of df are Index(['file_path', 'file_name', 'class_name', 'class_ID', 'y', 'sr',\n",
      "       'spectrogram', 'augmentation', 'shape'],\n",
      "      dtype='object')\n",
      "\n",
      "After applying process_augmented, shape of df = (3830, 4)\n",
      "Columns of df are Index(['file_path', 'file_name', 'class_name', 'class_ID', 'y', 'sr',\n",
      "       'spectrogram', 'augmentation', 'shape'],\n",
      "      dtype='object')\n",
      "\n"
     ]
    }
   ],
   "source": [
    "data_df_augmented_processed.to_csv(os.path.join(METADATA_DIR_AUGMENTED_PROCESSED, 'data.csv'), index=False)\n",
    "data_df_augmented_processed.to_pickle(os.path.join(METADATA_DIR_AUGMENTED_PROCESSED, 'data.pkl'))"
   ]
  },
  {
   "cell_type": "code",
   "execution_count": 290,
   "metadata": {},
   "outputs": [
    {
     "name": "stdout",
     "output_type": "stream",
     "text": [
      "After applying get_count, shape of df = (10,)\n",
      "Columns of df are Index(['spectrogram', 'class_ID', 'class_name', 'augmentation'], dtype='object')\n",
      "\n",
      "c     691\n",
      "am    578\n",
      "e     558\n",
      "g     531\n",
      "d     524\n",
      "dm    279\n",
      "em    275\n",
      "a     185\n",
      "f     173\n",
      "bm     36\n",
      "Name: class_name, dtype: int64\n"
     ]
    }
   ],
   "source": [
    "print(get_count(data_df_augmented_processed))"
   ]
  },
  {
   "cell_type": "code",
   "execution_count": 296,
   "metadata": {},
   "outputs": [
    {
     "name": "stdout",
     "output_type": "stream",
     "text": [
      "After applying get_augmentation_count, shape of df = (4,)\n",
      "Columns of df are Index(['spectrogram', 'class_ID', 'class_name', 'augmentation'], dtype='object')\n",
      "\n",
      "None         2532\n",
      "pitch_200     633\n",
      "pitch_250     633\n",
      "speed_81       32\n",
      "Name: augmentation, dtype: int64\n"
     ]
    }
   ],
   "source": [
    "print(get_augmentation_count(data_df_augmented_processed))"
   ]
  },
  {
   "cell_type": "markdown",
   "metadata": {},
   "source": [
    "The dataset consists of:\n",
    "- 1-633 normal samples.\n",
    "- 634-981 samples speed up by 1.07.\n",
    "- 982-2594 samples Slowed down to 0.81.\n",
    "- 2595-3227 samples Pitch modulated 2 semitones higher.\n",
    "- 3228-3860 samples Pitch modulated 2.5 semitones higher.\n",
    "\n",
    "\n",
    "\n"
   ]
  },
  {
   "cell_type": "markdown",
   "metadata": {},
   "source": [
    "### Load processed augmented data"
   ]
  },
  {
   "cell_type": "code",
   "execution_count": 291,
   "metadata": {},
   "outputs": [],
   "source": [
    "dataset = pd.read_pickle(os.path.join(METADATA_DIR_AUGMENTED_PROCESSED, 'data.pkl'))"
   ]
  },
  {
   "cell_type": "code",
   "execution_count": 292,
   "metadata": {},
   "outputs": [
    {
     "name": "stdout",
     "output_type": "stream",
     "text": [
      "Number of samples:  3830\n"
     ]
    }
   ],
   "source": [
    "print(\"Number of samples: \", len(dataset))"
   ]
  },
  {
   "cell_type": "code",
   "execution_count": 293,
   "metadata": {},
   "outputs": [
    {
     "data": {
      "text/plain": [
       "spectrogram     [[0.023263648, 0.013200079, 0.005690117, 0.005...\n",
       "class_ID                                                        9\n",
       "class_name                                                      g\n",
       "augmentation                                                 None\n",
       "Name: 0, dtype: object"
      ]
     },
     "execution_count": 293,
     "metadata": {},
     "output_type": "execute_result"
    }
   ],
   "source": [
    "dataset.iloc[0]"
   ]
  },
  {
   "cell_type": "code",
   "execution_count": 294,
   "metadata": {},
   "outputs": [
    {
     "data": {
      "text/plain": [
       "(128, 87)"
      ]
     },
     "execution_count": 294,
     "metadata": {},
     "output_type": "execute_result"
    }
   ],
   "source": [
    "dataset['spectrogram'].iloc[0].shape"
   ]
  },
  {
   "cell_type": "markdown",
   "metadata": {},
   "source": [
    "### Splitting into train and test"
   ]
  },
  {
   "cell_type": "code",
   "execution_count": 295,
   "metadata": {},
   "outputs": [
    {
     "name": "stdout",
     "output_type": "stream",
     "text": [
      "Number of training samples is 3064\n",
      "Number of testing samples is 766\n",
      "                                            spectrogram  class_ID class_name  \\\n",
      "2922  [[0.00019362751, 0.00020689117, 0.00017715132,...         8          f   \n",
      "3716  [[0.005589589, 0.005713801, 0.0062338435, 0.00...         6          e   \n",
      "1964  [[0.0058204937, 0.005927953, 0.0057165334, 0.0...         9          g   \n",
      "3621  [[0.00064211176, 0.0005400054, 0.00063801196, ...         0          a   \n",
      "1694  [[0.012214066, 0.0051321704, 0.0035163227, 0.0...         7         em   \n",
      "1157  [[0.007482484, 0.0071817273, 0.007316982, 0.00...         6          e   \n",
      "318   [[0.0013349487, 0.0008135946, 0.00034707907, 0...         5         dm   \n",
      "839   [[0.046818838, 0.026844991, 0.009680895, 0.007...         1         am   \n",
      "893   [[0.00609399, 0.0014312841, 4.5376742e-05, 4.6...         3          c   \n",
      "985   [[5.567563e-05, 7.225462e-05, 0.00010913082, 0...         5         dm   \n",
      "\n",
      "     augmentation  \n",
      "2922    pitch_200  \n",
      "3716         None  \n",
      "1964         None  \n",
      "3621         None  \n",
      "1694    pitch_250  \n",
      "1157         None  \n",
      "318          None  \n",
      "839          None  \n",
      "893          None  \n",
      "985          None  \n",
      "                                          spectrogram  class_ID class_name  \\\n",
      "1   [[0.0030921197, 0.008742289, 0.01737749, 0.010...         9          g   \n",
      "4   [[0.0064443834, 0.007321003, 0.0068667047, 0.0...         9          g   \n",
      "11  [[0.0055058054, 0.0063044643, 0.009104774, 0.0...         9          g   \n",
      "16  [[0.006768409, 0.006810356, 0.005866915, 0.005...         9          g   \n",
      "19  [[0.010850698, 0.0083983885, 0.004220161, 0.00...         9          g   \n",
      "21  [[0.008684181, 0.008429323, 0.0065017547, 0.00...         9          g   \n",
      "34  [[1.854072e-05, 4.2590924e-05, 6.209528e-05, 8...         9          g   \n",
      "35  [[0.0045183985, 0.005631184, 0.006751319, 0.00...         9          g   \n",
      "36  [[0.006491574, 0.006028326, 0.014432897, 0.021...         9          g   \n",
      "38  [[0.00048381044, 0.00054820086, 0.000118413016...         9          g   \n",
      "\n",
      "   augmentation  \n",
      "1          None  \n",
      "4          None  \n",
      "11         None  \n",
      "16         None  \n",
      "19         None  \n",
      "21         None  \n",
      "34         None  \n",
      "35         None  \n",
      "36         None  \n",
      "38         None  \n"
     ]
    }
   ],
   "source": [
    "np.random.seed(42)\n",
    "sample = np.random.choice(dataset.index, size=int(len(dataset)*0.8), replace=False)\n",
    "train_data, test_data = dataset.iloc[sample], dataset.drop(sample)\n",
    "\n",
    "print(\"Number of training samples is\", len(train_data))\n",
    "print(\"Number of testing samples is\", len(test_data))\n",
    "print(train_data[:10])\n",
    "print(test_data[:10])"
   ]
  },
  {
   "cell_type": "code",
   "execution_count": 297,
   "metadata": {},
   "outputs": [
    {
     "data": {
      "text/plain": [
       "array([[1.9362751e-04, 2.0689117e-04, 1.7715132e-04, ..., 7.8186815e-05,\n",
       "        2.1387306e-04, 2.3202693e-04],\n",
       "       [2.0357800e-06, 1.5576363e-06, 5.1439069e-06, ..., 2.0222674e-06,\n",
       "        3.8249955e-06, 2.2311793e-05],\n",
       "       [9.7707853e-06, 8.3493305e-06, 2.2361973e-04, ..., 3.7016266e-06,\n",
       "        5.5294618e-06, 3.0655599e-05],\n",
       "       ...,\n",
       "       [1.3973332e-08, 2.1376330e-08, 1.2206337e-07, ..., 1.0000371e-08,\n",
       "        8.3683416e-09, 9.9608970e-09],\n",
       "       [7.7119653e-09, 7.1859856e-09, 1.8832310e-08, ..., 1.8183540e-09,\n",
       "        1.9158120e-09, 2.4459623e-09],\n",
       "       [8.5486302e-09, 2.8051879e-09, 3.3572976e-09, ..., 1.4130125e-10,\n",
       "        2.4894264e-10, 1.1311369e-09]], dtype=float32)"
      ]
     },
     "execution_count": 297,
     "metadata": {},
     "output_type": "execute_result"
    }
   ],
   "source": [
    "train_data['spectrogram'].iloc[0]"
   ]
  },
  {
   "cell_type": "code",
   "execution_count": 298,
   "metadata": {},
   "outputs": [
    {
     "name": "stdout",
     "output_type": "stream",
     "text": [
      "spectrogram     [[0.00019362751, 0.00020689117, 0.00017715132,...\n",
      "class_ID                                                        8\n",
      "class_name                                                      f\n",
      "augmentation                                            pitch_200\n",
      "Name: 2922, dtype: object\n",
      "(128, 87)\n",
      "0.00020689117\n",
      "8\n"
     ]
    }
   ],
   "source": [
    "print(train_data.iloc[0])\n",
    "print(train_data.iloc[0][0].shape)   #shape of input image\n",
    "print(train_data.iloc[0][0][0][1])\n",
    "print(train_data.iloc[0][1])    #output class id"
   ]
  },
  {
   "cell_type": "markdown",
   "metadata": {},
   "source": [
    "## Splitting the data into features (X) and targets (y)\n",
    "Now, as a final step before the training, we'll split the data into features (X) and targets (y)."
   ]
  },
  {
   "cell_type": "code",
   "execution_count": 299,
   "metadata": {},
   "outputs": [
    {
     "name": "stdout",
     "output_type": "stream",
     "text": [
      "2922    [[0.00019362751, 0.00020689117, 0.00017715132,...\n",
      "3716    [[0.005589589, 0.005713801, 0.0062338435, 0.00...\n",
      "1964    [[0.0058204937, 0.005927953, 0.0057165334, 0.0...\n",
      "3621    [[0.00064211176, 0.0005400054, 0.00063801196, ...\n",
      "1694    [[0.012214066, 0.0051321704, 0.0035163227, 0.0...\n",
      "1157    [[0.007482484, 0.0071817273, 0.007316982, 0.00...\n",
      "318     [[0.0013349487, 0.0008135946, 0.00034707907, 0...\n",
      "839     [[0.046818838, 0.026844991, 0.009680895, 0.007...\n",
      "893     [[0.00609399, 0.0014312841, 4.5376742e-05, 4.6...\n",
      "985     [[5.567563e-05, 7.225462e-05, 0.00010913082, 0...\n",
      "Name: spectrogram, dtype: object\n",
      "2922    8\n",
      "3716    6\n",
      "1964    9\n",
      "3621    0\n",
      "1694    7\n",
      "1157    6\n",
      "318     5\n",
      "839     1\n",
      "893     3\n",
      "985     5\n",
      "Name: class_ID, dtype: int64\n"
     ]
    }
   ],
   "source": [
    "X_train = train_data['spectrogram']\n",
    "y_train = train_data['class_ID']\n",
    "X_test = test_data['spectrogram']\n",
    "y_test = test_data['class_ID']\n",
    "\n",
    "print(X_train[:10])\n",
    "print(y_train[:10])"
   ]
  },
  {
   "cell_type": "markdown",
   "metadata": {},
   "source": [
    "### Reshape for CNN input"
   ]
  },
  {
   "cell_type": "code",
   "execution_count": 300,
   "metadata": {},
   "outputs": [],
   "source": [
    "X_train = np.array([x.reshape( (128, 87, 1) ) for x in X_train])\n",
    "X_test = np.array([x.reshape( (128, 87, 1) ) for x in X_test])"
   ]
  },
  {
   "cell_type": "code",
   "execution_count": 301,
   "metadata": {},
   "outputs": [
    {
     "name": "stdout",
     "output_type": "stream",
     "text": [
      "(128, 87, 1)\n",
      "9\n"
     ]
    }
   ],
   "source": [
    "print(X_train[0].shape)\n",
    "print(y_train[0])"
   ]
  },
  {
   "cell_type": "markdown",
   "metadata": {},
   "source": [
    "### One-Hot encoding for classes"
   ]
  },
  {
   "cell_type": "code",
   "execution_count": 302,
   "metadata": {},
   "outputs": [],
   "source": [
    "y_train = np.array(keras.utils.to_categorical(y_train, 10))\n",
    "y_test_values=y_test\n",
    "y_test = np.array(keras.utils.to_categorical(y_test, 10))"
   ]
  },
  {
   "cell_type": "code",
   "execution_count": 303,
   "metadata": {},
   "outputs": [
    {
     "name": "stdout",
     "output_type": "stream",
     "text": [
      "[0. 0. 0. 0. 0. 0. 0. 0. 1. 0.]\n"
     ]
    }
   ],
   "source": [
    "print(y_train[0])"
   ]
  },
  {
   "cell_type": "markdown",
   "metadata": {},
   "source": [
    "### Model"
   ]
  },
  {
   "cell_type": "code",
   "execution_count": 306,
   "metadata": {},
   "outputs": [
    {
     "name": "stdout",
     "output_type": "stream",
     "text": [
      "Model: \"sequential_2\"\n",
      "_________________________________________________________________\n",
      "Layer (type)                 Output Shape              Param #   \n",
      "=================================================================\n",
      "conv2d_4 (Conv2D)            (None, 124, 83, 24)       624       \n",
      "_________________________________________________________________\n",
      "max_pooling2d_3 (MaxPooling2 (None, 31, 41, 24)        0         \n",
      "_________________________________________________________________\n",
      "activation_6 (Activation)    (None, 31, 41, 24)        0         \n",
      "_________________________________________________________________\n",
      "conv2d_5 (Conv2D)            (None, 27, 37, 48)        28848     \n",
      "_________________________________________________________________\n",
      "max_pooling2d_4 (MaxPooling2 (None, 6, 18, 48)         0         \n",
      "_________________________________________________________________\n",
      "activation_7 (Activation)    (None, 6, 18, 48)         0         \n",
      "_________________________________________________________________\n",
      "conv2d_6 (Conv2D)            (None, 2, 14, 48)         57648     \n",
      "_________________________________________________________________\n",
      "activation_8 (Activation)    (None, 2, 14, 48)         0         \n",
      "_________________________________________________________________\n",
      "flatten_2 (Flatten)          (None, 1344)              0         \n",
      "_________________________________________________________________\n",
      "dropout_3 (Dropout)          (None, 1344)              0         \n",
      "_________________________________________________________________\n",
      "dense_3 (Dense)              (None, 64)                86080     \n",
      "_________________________________________________________________\n",
      "activation_9 (Activation)    (None, 64)                0         \n",
      "_________________________________________________________________\n",
      "dropout_4 (Dropout)          (None, 64)                0         \n",
      "_________________________________________________________________\n",
      "dense_4 (Dense)              (None, 10)                650       \n",
      "_________________________________________________________________\n",
      "activation_10 (Activation)   (None, 10)                0         \n",
      "=================================================================\n",
      "Total params: 173,850\n",
      "Trainable params: 173,850\n",
      "Non-trainable params: 0\n",
      "_________________________________________________________________\n"
     ]
    }
   ],
   "source": [
    "model.summary()\n"
   ]
  },
  {
   "cell_type": "code",
   "execution_count": 307,
   "metadata": {},
   "outputs": [
    {
     "name": "stdout",
     "output_type": "stream",
     "text": [
      "Train on 3064 samples, validate on 766 samples\n",
      "Epoch 1/70\n",
      "3064/3064 [==============================] - 11s 4ms/step - loss: 2.1842 - accuracy: 0.1988 - precision: 0.2808 - recall: 0.0286 - fmeasure: 0.0498 - val_loss: 1.9612 - val_accuracy: 0.2546 - val_precision: 0.4301 - val_recall: 0.0436 - val_fmeasure: 0.0762\n",
      "Epoch 2/70\n",
      "3064/3064 [==============================] - 9s 3ms/step - loss: 1.9245 - accuracy: 0.2725 - precision: 0.6000 - recall: 0.0870 - fmeasure: 0.1470 - val_loss: 1.7740 - val_accuracy: 0.3433 - val_precision: 0.6996 - val_recall: 0.1504 - val_fmeasure: 0.2383\n",
      "Epoch 3/70\n",
      "3064/3064 [==============================] - 10s 3ms/step - loss: 1.7537 - accuracy: 0.3636 - precision: 0.7929 - recall: 0.1880 - fmeasure: 0.2967 - val_loss: 1.6002 - val_accuracy: 0.4034 - val_precision: 0.7670 - val_recall: 0.2427 - val_fmeasure: 0.3582\n",
      "Epoch 4/70\n",
      "3064/3064 [==============================] - 9s 3ms/step - loss: 1.6041 - accuracy: 0.4227 - precision: 0.8843 - recall: 0.2669 - fmeasure: 0.4009 - val_loss: 1.5010 - val_accuracy: 0.4413 - val_precision: 0.8107 - val_recall: 0.3252 - val_fmeasure: 0.4547\n",
      "Epoch 5/70\n",
      "3064/3064 [==============================] - 9s 3ms/step - loss: 1.5387 - accuracy: 0.4586 - precision: 0.8986 - recall: 0.3214 - fmeasure: 0.4635 - val_loss: 1.5803 - val_accuracy: 0.4230 - val_precision: 0.7658 - val_recall: 0.3085 - val_fmeasure: 0.4323\n",
      "Epoch 6/70\n",
      "3064/3064 [==============================] - 9s 3ms/step - loss: 1.5512 - accuracy: 0.4605 - precision: 0.8940 - recall: 0.3127 - fmeasure: 0.4539 - val_loss: 1.4431 - val_accuracy: 0.4517 - val_precision: 0.8474 - val_recall: 0.3419 - val_fmeasure: 0.4765\n",
      "Epoch 7/70\n",
      "3064/3064 [==============================] - 10s 3ms/step - loss: 1.4028 - accuracy: 0.5131 - precision: 0.9377 - recall: 0.3620 - fmeasure: 0.5147 - val_loss: 1.3842 - val_accuracy: 0.5431 - val_precision: 0.8305 - val_recall: 0.3547 - val_fmeasure: 0.4872\n",
      "Epoch 8/70\n",
      "3064/3064 [==============================] - 10s 3ms/step - loss: 1.3316 - accuracy: 0.5552 - precision: 0.9453 - recall: 0.3731 - fmeasure: 0.5261 - val_loss: 1.2859 - val_accuracy: 0.6253 - val_precision: 0.8186 - val_recall: 0.3650 - val_fmeasure: 0.4962\n",
      "Epoch 9/70\n",
      "3064/3064 [==============================] - 9s 3ms/step - loss: 1.2182 - accuracy: 0.5884 - precision: 0.9346 - recall: 0.3912 - fmeasure: 0.5429 - val_loss: 1.1503 - val_accuracy: 0.6136 - val_precision: 0.8266 - val_recall: 0.4111 - val_fmeasure: 0.5370\n",
      "Epoch 10/70\n",
      "3064/3064 [==============================] - 10s 3ms/step - loss: 1.1348 - accuracy: 0.6276 - precision: 0.9099 - recall: 0.4195 - fmeasure: 0.5671 - val_loss: 1.1989 - val_accuracy: 0.6423 - val_precision: 0.8169 - val_recall: 0.3906 - val_fmeasure: 0.5203\n",
      "Epoch 11/70\n",
      "3064/3064 [==============================] - 11s 4ms/step - loss: 1.1123 - accuracy: 0.6332 - precision: 0.8898 - recall: 0.4409 - fmeasure: 0.5821 - val_loss: 1.1435 - val_accuracy: 0.6070 - val_precision: 0.7477 - val_recall: 0.4265 - val_fmeasure: 0.5286\n",
      "Epoch 12/70\n",
      "3064/3064 [==============================] - 10s 3ms/step - loss: 1.0994 - accuracy: 0.6312 - precision: 0.8508 - recall: 0.4344 - fmeasure: 0.5699 - val_loss: 0.9788 - val_accuracy: 0.6554 - val_precision: 0.7977 - val_recall: 0.4496 - val_fmeasure: 0.5599\n",
      "Epoch 13/70\n",
      "3064/3064 [==============================] - 9s 3ms/step - loss: 0.9127 - accuracy: 0.6837 - precision: 0.8771 - recall: 0.5055 - fmeasure: 0.6357 - val_loss: 0.8212 - val_accuracy: 0.6906 - val_precision: 0.7944 - val_recall: 0.5624 - val_fmeasure: 0.6472\n",
      "Epoch 14/70\n",
      "3064/3064 [==============================] - 10s 3ms/step - loss: 0.8080 - accuracy: 0.7069 - precision: 0.8692 - recall: 0.5468 - fmeasure: 0.6660 - val_loss: 0.7706 - val_accuracy: 0.7350 - val_precision: 0.8079 - val_recall: 0.5444 - val_fmeasure: 0.6377\n",
      "Epoch 15/70\n",
      "3064/3064 [==============================] - 10s 3ms/step - loss: 0.7753 - accuracy: 0.7327 - precision: 0.8718 - recall: 0.5886 - fmeasure: 0.6976 - val_loss: 0.7125 - val_accuracy: 0.7768 - val_precision: 0.8561 - val_recall: 0.6128 - val_fmeasure: 0.6970\n",
      "Epoch 16/70\n",
      "3064/3064 [==============================] - 9s 3ms/step - loss: 0.7040 - accuracy: 0.7399 - precision: 0.8657 - recall: 0.6188 - fmeasure: 0.7183 - val_loss: 0.6434 - val_accuracy: 0.7846 - val_precision: 0.8602 - val_recall: 0.6231 - val_fmeasure: 0.7028\n",
      "Epoch 17/70\n",
      "3064/3064 [==============================] - 9s 3ms/step - loss: 0.7327 - accuracy: 0.7454 - precision: 0.8641 - recall: 0.6276 - fmeasure: 0.7240 - val_loss: 0.6450 - val_accuracy: 0.7937 - val_precision: 0.8734 - val_recall: 0.6594 - val_fmeasure: 0.7382\n",
      "Epoch 18/70\n",
      "3064/3064 [==============================] - 9s 3ms/step - loss: 0.6476 - accuracy: 0.7719 - precision: 0.8670 - recall: 0.6610 - fmeasure: 0.7472 - val_loss: 0.8314 - val_accuracy: 0.7846 - val_precision: 0.8569 - val_recall: 0.6098 - val_fmeasure: 0.6915\n",
      "Epoch 19/70\n",
      "3064/3064 [==============================] - 10s 3ms/step - loss: 0.7934 - accuracy: 0.7435 - precision: 0.8330 - recall: 0.6295 - fmeasure: 0.7140 - val_loss: 0.7397 - val_accuracy: 0.7389 - val_precision: 0.7856 - val_recall: 0.5996 - val_fmeasure: 0.6678\n",
      "Epoch 20/70\n",
      "3064/3064 [==============================] - 10s 3ms/step - loss: 0.6754 - accuracy: 0.7696 - precision: 0.8714 - recall: 0.6653 - fmeasure: 0.7510 - val_loss: 0.5864 - val_accuracy: 0.8029 - val_precision: 0.8624 - val_recall: 0.7184 - val_fmeasure: 0.7762\n",
      "Epoch 21/70\n",
      "3064/3064 [==============================] - 9s 3ms/step - loss: 0.5873 - accuracy: 0.7941 - precision: 0.8790 - recall: 0.6968 - fmeasure: 0.7749 - val_loss: 0.5594 - val_accuracy: 0.8355 - val_precision: 0.8894 - val_recall: 0.7389 - val_fmeasure: 0.7959\n",
      "Epoch 22/70\n",
      "3064/3064 [==============================] - 10s 3ms/step - loss: 0.5901 - accuracy: 0.7918 - precision: 0.8689 - recall: 0.7146 - fmeasure: 0.7816 - val_loss: 0.5227 - val_accuracy: 0.8003 - val_precision: 0.8555 - val_recall: 0.7248 - val_fmeasure: 0.7760\n",
      "Epoch 23/70\n",
      "3064/3064 [==============================] - 10s 3ms/step - loss: 0.5292 - accuracy: 0.8065 - precision: 0.8769 - recall: 0.7247 - fmeasure: 0.7912 - val_loss: 0.4855 - val_accuracy: 0.8486 - val_precision: 0.8841 - val_recall: 0.7893 - val_fmeasure: 0.8292\n",
      "Epoch 24/70\n",
      "3064/3064 [==============================] - 12s 4ms/step - loss: 0.4933 - accuracy: 0.8166 - precision: 0.8793 - recall: 0.7468 - fmeasure: 0.8057 - val_loss: 0.5263 - val_accuracy: 0.8616 - val_precision: 0.8952 - val_recall: 0.8124 - val_fmeasure: 0.8494\n",
      "Epoch 25/70\n",
      "3064/3064 [==============================] - 10s 3ms/step - loss: 0.6307 - accuracy: 0.7924 - precision: 0.8593 - recall: 0.7182 - fmeasure: 0.7806 - val_loss: 0.7451 - val_accuracy: 0.7885 - val_precision: 0.8168 - val_recall: 0.7346 - val_fmeasure: 0.7696\n",
      "Epoch 26/70\n",
      "3064/3064 [==============================] - 10s 3ms/step - loss: 0.5858 - accuracy: 0.7901 - precision: 0.8575 - recall: 0.7201 - fmeasure: 0.7810 - val_loss: 0.6294 - val_accuracy: 0.8603 - val_precision: 0.8919 - val_recall: 0.7966 - val_fmeasure: 0.8373\n",
      "Epoch 27/70\n",
      "3064/3064 [==============================] - 10s 3ms/step - loss: 0.5474 - accuracy: 0.8071 - precision: 0.8604 - recall: 0.7370 - fmeasure: 0.7922 - val_loss: 0.5277 - val_accuracy: 0.8433 - val_precision: 0.8763 - val_recall: 0.7991 - val_fmeasure: 0.8336\n",
      "Epoch 28/70\n",
      "3064/3064 [==============================] - 10s 3ms/step - loss: 0.4995 - accuracy: 0.8140 - precision: 0.8786 - recall: 0.7571 - fmeasure: 0.8115 - val_loss: 0.6241 - val_accuracy: 0.8316 - val_precision: 0.8616 - val_recall: 0.7906 - val_fmeasure: 0.8219\n",
      "Epoch 29/70\n",
      "3064/3064 [==============================] - 11s 4ms/step - loss: 0.5359 - accuracy: 0.8065 - precision: 0.8694 - recall: 0.7442 - fmeasure: 0.7999 - val_loss: 0.5673 - val_accuracy: 0.8407 - val_precision: 0.8777 - val_recall: 0.7641 - val_fmeasure: 0.8116\n",
      "Epoch 30/70\n",
      "3064/3064 [==============================] - 10s 3ms/step - loss: 0.4604 - accuracy: 0.8355 - precision: 0.8873 - recall: 0.7860 - fmeasure: 0.8321 - val_loss: 0.5023 - val_accuracy: 0.8590 - val_precision: 0.8964 - val_recall: 0.8265 - val_fmeasure: 0.8579\n",
      "Epoch 31/70\n",
      "3064/3064 [==============================] - 9s 3ms/step - loss: 0.4455 - accuracy: 0.8388 - precision: 0.8860 - recall: 0.7919 - fmeasure: 0.8348 - val_loss: 0.4838 - val_accuracy: 0.8551 - val_precision: 0.8826 - val_recall: 0.8218 - val_fmeasure: 0.8491\n",
      "Epoch 32/70\n",
      "3064/3064 [==============================] - 9s 3ms/step - loss: 0.4384 - accuracy: 0.8384 - precision: 0.8875 - recall: 0.7942 - fmeasure: 0.8371 - val_loss: 0.4302 - val_accuracy: 0.8655 - val_precision: 0.8949 - val_recall: 0.8457 - val_fmeasure: 0.8674\n",
      "Epoch 33/70\n",
      "3064/3064 [==============================] - 9s 3ms/step - loss: 0.4005 - accuracy: 0.8375 - precision: 0.8782 - recall: 0.8039 - fmeasure: 0.8383 - val_loss: 0.4428 - val_accuracy: 0.8616 - val_precision: 0.8956 - val_recall: 0.8406 - val_fmeasure: 0.8650\n",
      "Epoch 34/70\n",
      "3064/3064 [==============================] - 9s 3ms/step - loss: 0.5467 - accuracy: 0.8345 - precision: 0.8806 - recall: 0.7867 - fmeasure: 0.8299 - val_loss: 0.4320 - val_accuracy: 0.8668 - val_precision: 0.8868 - val_recall: 0.8491 - val_fmeasure: 0.8668\n",
      "Epoch 35/70\n",
      "3064/3064 [==============================] - 9s 3ms/step - loss: 0.5171 - accuracy: 0.8567 - precision: 0.8974 - recall: 0.8208 - fmeasure: 0.8561 - val_loss: 0.7007 - val_accuracy: 0.8133 - val_precision: 0.8444 - val_recall: 0.7722 - val_fmeasure: 0.8042\n",
      "Epoch 36/70\n",
      "3064/3064 [==============================] - 9s 3ms/step - loss: 0.4749 - accuracy: 0.8404 - precision: 0.8836 - recall: 0.7971 - fmeasure: 0.8369 - val_loss: 0.4021 - val_accuracy: 0.8851 - val_precision: 0.9208 - val_recall: 0.8598 - val_fmeasure: 0.8873\n",
      "Epoch 37/70\n",
      "3064/3064 [==============================] - 8s 3ms/step - loss: 0.3720 - accuracy: 0.8639 - precision: 0.9044 - recall: 0.8250 - fmeasure: 0.8619 - val_loss: 0.4458 - val_accuracy: 0.8786 - val_precision: 0.8968 - val_recall: 0.8419 - val_fmeasure: 0.8666\n",
      "Epoch 38/70\n",
      "3064/3064 [==============================] - 8s 3ms/step - loss: 0.3767 - accuracy: 0.8610 - precision: 0.8976 - recall: 0.8266 - fmeasure: 0.8595 - val_loss: 0.4165 - val_accuracy: 0.8903 - val_precision: 0.9076 - val_recall: 0.8662 - val_fmeasure: 0.8854\n",
      "Epoch 39/70\n",
      "3064/3064 [==============================] - 9s 3ms/step - loss: 0.3298 - accuracy: 0.8815 - precision: 0.9086 - recall: 0.8513 - fmeasure: 0.8783 - val_loss: 0.4111 - val_accuracy: 0.8916 - val_precision: 0.9135 - val_recall: 0.8701 - val_fmeasure: 0.8902\n",
      "Epoch 40/70\n",
      "3064/3064 [==============================] - 10s 3ms/step - loss: 0.3052 - accuracy: 0.8854 - precision: 0.9150 - recall: 0.8604 - fmeasure: 0.8860 - val_loss: 0.4019 - val_accuracy: 0.8969 - val_precision: 0.9080 - val_recall: 0.8778 - val_fmeasure: 0.8921\n",
      "Epoch 41/70\n",
      "3064/3064 [==============================] - 9s 3ms/step - loss: 0.3218 - accuracy: 0.8841 - precision: 0.9168 - recall: 0.8591 - fmeasure: 0.8862 - val_loss: 0.4483 - val_accuracy: 0.8890 - val_precision: 0.9187 - val_recall: 0.8718 - val_fmeasure: 0.8935\n",
      "Epoch 42/70\n",
      "3064/3064 [==============================] - 9s 3ms/step - loss: 0.3342 - accuracy: 0.8851 - precision: 0.9148 - recall: 0.8536 - fmeasure: 0.8824 - val_loss: 0.4748 - val_accuracy: 0.8616 - val_precision: 0.8798 - val_recall: 0.8380 - val_fmeasure: 0.8572\n",
      "Epoch 43/70\n",
      "3064/3064 [==============================] - 9s 3ms/step - loss: 0.3362 - accuracy: 0.8760 - precision: 0.9088 - recall: 0.8510 - fmeasure: 0.8781 - val_loss: 0.4320 - val_accuracy: 0.8943 - val_precision: 0.9124 - val_recall: 0.8803 - val_fmeasure: 0.8949\n",
      "Epoch 44/70\n",
      "3064/3064 [==============================] - 10s 3ms/step - loss: 0.3891 - accuracy: 0.8711 - precision: 0.8986 - recall: 0.8474 - fmeasure: 0.8714 - val_loss: 0.4833 - val_accuracy: 0.8525 - val_precision: 0.8759 - val_recall: 0.8274 - val_fmeasure: 0.8493\n",
      "Epoch 45/70\n",
      "3064/3064 [==============================] - 11s 3ms/step - loss: 0.3772 - accuracy: 0.8786 - precision: 0.9089 - recall: 0.8471 - fmeasure: 0.8760 - val_loss: 0.4873 - val_accuracy: 0.8838 - val_precision: 0.8948 - val_recall: 0.8624 - val_fmeasure: 0.8773\n",
      "Epoch 46/70\n",
      "3064/3064 [==============================] - 9s 3ms/step - loss: 0.2856 - accuracy: 0.8936 - precision: 0.9184 - recall: 0.8714 - fmeasure: 0.8936 - val_loss: 0.3370 - val_accuracy: 0.9047 - val_precision: 0.9177 - val_recall: 0.8855 - val_fmeasure: 0.8998\n",
      "Epoch 47/70\n",
      "3064/3064 [==============================] - 9s 3ms/step - loss: 0.2952 - accuracy: 0.8998 - precision: 0.9274 - recall: 0.8802 - fmeasure: 0.9025 - val_loss: 0.3855 - val_accuracy: 0.8916 - val_precision: 0.9030 - val_recall: 0.8688 - val_fmeasure: 0.8843\n",
      "Epoch 48/70\n",
      "3064/3064 [==============================] - 10s 3ms/step - loss: 0.2550 - accuracy: 0.9106 - precision: 0.9289 - recall: 0.8877 - fmeasure: 0.9073 - val_loss: 0.3397 - val_accuracy: 0.9164 - val_precision: 0.9235 - val_recall: 0.8970 - val_fmeasure: 0.9096\n",
      "Epoch 49/70\n",
      "3064/3064 [==============================] - 10s 3ms/step - loss: 0.2526 - accuracy: 0.9060 - precision: 0.9263 - recall: 0.8873 - fmeasure: 0.9059 - val_loss: 0.5128 - val_accuracy: 0.8655 - val_precision: 0.8814 - val_recall: 0.8526 - val_fmeasure: 0.8660\n",
      "Epoch 50/70\n",
      "3064/3064 [==============================] - 10s 3ms/step - loss: 0.3367 - accuracy: 0.8969 - precision: 0.9213 - recall: 0.8756 - fmeasure: 0.8973 - val_loss: 0.4160 - val_accuracy: 0.9008 - val_precision: 0.9096 - val_recall: 0.8816 - val_fmeasure: 0.8941\n",
      "Epoch 51/70\n",
      "3064/3064 [==============================] - 9s 3ms/step - loss: 0.3411 - accuracy: 0.9024 - precision: 0.9235 - recall: 0.8789 - fmeasure: 0.9000 - val_loss: 0.3725 - val_accuracy: 0.9047 - val_precision: 0.9165 - val_recall: 0.8855 - val_fmeasure: 0.8998\n",
      "Epoch 52/70\n",
      "3064/3064 [==============================] - 9s 3ms/step - loss: 0.4927 - accuracy: 0.8894 - precision: 0.9095 - recall: 0.8695 - fmeasure: 0.8884 - val_loss: 0.6222 - val_accuracy: 0.8120 - val_precision: 0.8488 - val_recall: 0.7829 - val_fmeasure: 0.8124\n",
      "Epoch 53/70\n",
      "3064/3064 [==============================] - 15s 5ms/step - loss: 1.0945 - accuracy: 0.7885 - precision: 0.8492 - recall: 0.7351 - fmeasure: 0.7861 - val_loss: 0.5976 - val_accuracy: 0.8460 - val_precision: 0.8733 - val_recall: 0.8137 - val_fmeasure: 0.8407\n",
      "Epoch 54/70\n",
      "3064/3064 [==============================] - 15s 5ms/step - loss: 0.4646 - accuracy: 0.8584 - precision: 0.8993 - recall: 0.8192 - fmeasure: 0.8563 - val_loss: 0.3522 - val_accuracy: 0.8825 - val_precision: 0.9066 - val_recall: 0.8547 - val_fmeasure: 0.8779\n",
      "Epoch 55/70\n",
      "3064/3064 [==============================] - 10s 3ms/step - loss: 0.3584 - accuracy: 0.8789 - precision: 0.9136 - recall: 0.8432 - fmeasure: 0.8761 - val_loss: 0.6409 - val_accuracy: 0.8851 - val_precision: 0.9099 - val_recall: 0.8667 - val_fmeasure: 0.8866\n",
      "Epoch 56/70\n",
      "3064/3064 [==============================] - 10s 3ms/step - loss: 0.2937 - accuracy: 0.9005 - precision: 0.9283 - recall: 0.8756 - fmeasure: 0.9005 - val_loss: 0.6444 - val_accuracy: 0.9112 - val_precision: 0.9258 - val_recall: 0.8850 - val_fmeasure: 0.9034\n",
      "Epoch 57/70\n",
      "3064/3064 [==============================] - 9s 3ms/step - loss: 0.2363 - accuracy: 0.9171 - precision: 0.9397 - recall: 0.8994 - fmeasure: 0.9186 - val_loss: 0.6298 - val_accuracy: 0.9021 - val_precision: 0.9130 - val_recall: 0.8893 - val_fmeasure: 0.9003\n",
      "Epoch 58/70\n",
      "3064/3064 [==============================] - 8s 3ms/step - loss: 0.2607 - accuracy: 0.9089 - precision: 0.9319 - recall: 0.8880 - fmeasure: 0.9087 - val_loss: 0.4948 - val_accuracy: 0.9151 - val_precision: 0.9280 - val_recall: 0.8957 - val_fmeasure: 0.9110\n",
      "Epoch 59/70\n",
      "3064/3064 [==============================] - 9s 3ms/step - loss: 0.2499 - accuracy: 0.9161 - precision: 0.9298 - recall: 0.8974 - fmeasure: 0.9129 - val_loss: 0.2666 - val_accuracy: 0.9230 - val_precision: 0.9356 - val_recall: 0.9060 - val_fmeasure: 0.9198\n",
      "Epoch 60/70\n",
      "3064/3064 [==============================] - 9s 3ms/step - loss: 0.2428 - accuracy: 0.9145 - precision: 0.9383 - recall: 0.8916 - fmeasure: 0.9138 - val_loss: 0.4485 - val_accuracy: 0.9125 - val_precision: 0.9240 - val_recall: 0.9021 - val_fmeasure: 0.9123\n",
      "Epoch 61/70\n"
     ]
    },
    {
     "name": "stdout",
     "output_type": "stream",
     "text": [
      "3064/3064 [==============================] - 8s 3ms/step - loss: 0.1849 - accuracy: 0.9367 - precision: 0.9514 - recall: 0.9208 - fmeasure: 0.9355 - val_loss: 0.4594 - val_accuracy: 0.9269 - val_precision: 0.9371 - val_recall: 0.9124 - val_fmeasure: 0.9240\n",
      "Epoch 62/70\n",
      "3064/3064 [==============================] - 9s 3ms/step - loss: 0.1772 - accuracy: 0.9422 - precision: 0.9554 - recall: 0.9305 - fmeasure: 0.9424 - val_loss: 0.2911 - val_accuracy: 0.9269 - val_precision: 0.9336 - val_recall: 0.9124 - val_fmeasure: 0.9224\n",
      "Epoch 63/70\n",
      "3064/3064 [==============================] - 8s 2ms/step - loss: 0.3288 - accuracy: 0.9063 - precision: 0.9315 - recall: 0.8932 - fmeasure: 0.9114 - val_loss: 0.3521 - val_accuracy: 0.9256 - val_precision: 0.9360 - val_recall: 0.9124 - val_fmeasure: 0.9236\n",
      "Epoch 64/70\n",
      "3064/3064 [==============================] - 8s 3ms/step - loss: 0.2975 - accuracy: 0.9063 - precision: 0.9228 - recall: 0.8896 - fmeasure: 0.9054 - val_loss: 0.5131 - val_accuracy: 0.9191 - val_precision: 0.9280 - val_recall: 0.9060 - val_fmeasure: 0.9164\n",
      "Epoch 65/70\n",
      "3064/3064 [==============================] - 10s 3ms/step - loss: 0.7390 - accuracy: 0.8789 - precision: 0.9117 - recall: 0.8409 - fmeasure: 0.8736 - val_loss: 0.7685 - val_accuracy: 0.8786 - val_precision: 0.8855 - val_recall: 0.8389 - val_fmeasure: 0.8597\n",
      "Epoch 66/70\n",
      "3064/3064 [==============================] - 8s 3ms/step - loss: 0.4185 - accuracy: 0.8874 - precision: 0.9147 - recall: 0.8636 - fmeasure: 0.8876 - val_loss: 0.5020 - val_accuracy: 0.9047 - val_precision: 0.9129 - val_recall: 0.8726 - val_fmeasure: 0.8909\n",
      "Epoch 67/70\n",
      "3064/3064 [==============================] - 9s 3ms/step - loss: 0.3207 - accuracy: 0.9054 - precision: 0.9241 - recall: 0.8818 - fmeasure: 0.9019 - val_loss: 0.3601 - val_accuracy: 0.9191 - val_precision: 0.9251 - val_recall: 0.9034 - val_fmeasure: 0.9135\n",
      "Epoch 68/70\n",
      "3064/3064 [==============================] - 10s 3ms/step - loss: 0.2516 - accuracy: 0.9210 - precision: 0.9388 - recall: 0.9036 - fmeasure: 0.9204 - val_loss: 0.3856 - val_accuracy: 0.9112 - val_precision: 0.9174 - val_recall: 0.9047 - val_fmeasure: 0.9108\n",
      "Epoch 69/70\n",
      "3064/3064 [==============================] - 10s 3ms/step - loss: 0.2174 - accuracy: 0.9344 - precision: 0.9497 - recall: 0.9188 - fmeasure: 0.9336 - val_loss: 0.3037 - val_accuracy: 0.9269 - val_precision: 0.9347 - val_recall: 0.9201 - val_fmeasure: 0.9271\n",
      "Epoch 70/70\n",
      "3064/3064 [==============================] - 8s 3ms/step - loss: 0.1800 - accuracy: 0.9347 - precision: 0.9485 - recall: 0.9237 - fmeasure: 0.9356 - val_loss: 0.2991 - val_accuracy: 0.9282 - val_precision: 0.9398 - val_recall: 0.9162 - val_fmeasure: 0.9274\n",
      "766/766 [==============================] - 0s 586us/step\n",
      "Test loss: 0.29912802490938273\n",
      "Test accuracy: 0.9281984567642212\n",
      "Test precision: 0.9412112236022949\n",
      "Test recall: 0.9177951216697693\n",
      "Test f1-score: 0.9289999008178711\n"
     ]
    }
   ],
   "source": [
    "model.compile(\n",
    "\toptimizer=\"Adam\",\n",
    "\tloss=\"categorical_crossentropy\",\n",
    "\tmetrics=['accuracy', precision, recall,fmeasure])\n",
    "\n",
    "model.fit(\n",
    "\tx=X_train, \n",
    "\ty=y_train,\n",
    "    epochs=70,\n",
    "    batch_size=20,\n",
    "    validation_data= (X_test, y_test))\n",
    "\n",
    "score = model.evaluate(\n",
    "\tx=X_test,\n",
    "\ty=y_test)\n",
    "\n",
    "print('Test loss:', score[0])\n",
    "print('Test accuracy:', score[1])\n",
    "print('Test precision:', score[2])\n",
    "print('Test recall:', score[3])\n",
    "print('Test f1-score:', score[4])\n"
   ]
  },
  {
   "cell_type": "code",
   "execution_count": 309,
   "metadata": {},
   "outputs": [],
   "source": [
    "predictions = model.predict_classes(X_test)"
   ]
  },
  {
   "cell_type": "code",
   "execution_count": 310,
   "metadata": {},
   "outputs": [
    {
     "data": {
      "text/plain": [
       "array([[ 22,   1,   3,   0,   1,   0,   0,   0,   0,   2],\n",
       "       [  0, 107,   1,   1,   0,   1,   0,   0,   0,   0],\n",
       "       [  0,   0,   4,   0,   0,   0,   1,   0,   0,   1],\n",
       "       [  0,   0,   0, 132,   1,   0,   1,   0,   1,   0],\n",
       "       [  0,   1,   0,   1, 106,   1,   0,   1,   0,   0],\n",
       "       [  0,   2,   0,   0,  17,  32,   1,   0,   0,   0],\n",
       "       [  0,   0,   0,   0,   0,   0, 122,   3,   0,   0],\n",
       "       [  0,   0,   0,   3,   0,   0,   6,  70,   1,   0],\n",
       "       [  0,   1,   0,   0,   0,   0,   0,   0,  30,   1],\n",
       "       [  0,   0,   0,   1,   0,   0,   0,   0,   0,  86]])"
      ]
     },
     "execution_count": 310,
     "metadata": {},
     "output_type": "execute_result"
    }
   ],
   "source": [
    "conf_mat=confusion_matrix(y_test_values, predictions, labels=range(10))\n",
    "conf_mat"
   ]
  },
  {
   "cell_type": "markdown",
   "metadata": {},
   "source": [
    "### Save model to disk"
   ]
  },
  {
   "cell_type": "markdown",
   "metadata": {},
   "source": [
    "### serialize model to JSON"
   ]
  },
  {
   "cell_type": "code",
   "execution_count": 524,
   "metadata": {},
   "outputs": [],
   "source": [
    "model_json = model.to_json()\n",
    "with open(MODEL_JSON, \"w\") as json_file:\n",
    "    json_file.write(model_json)"
   ]
  },
  {
   "cell_type": "markdown",
   "metadata": {},
   "source": [
    "### serialize weights to HDF5"
   ]
  },
  {
   "cell_type": "code",
   "execution_count": 525,
   "metadata": {},
   "outputs": [
    {
     "name": "stdout",
     "output_type": "stream",
     "text": [
      "Saved model to disk\n"
     ]
    }
   ],
   "source": [
    "model.save_weights(MODEL_H5)\n",
    "print(\"Saved model to disk\")"
   ]
  },
  {
   "cell_type": "code",
   "execution_count": 530,
   "metadata": {},
   "outputs": [
    {
     "ename": "SyntaxError",
     "evalue": "invalid syntax (<ipython-input-530-9deeb658d4ff>, line 1)",
     "output_type": "error",
     "traceback": [
      "\u001b[0;36m  File \u001b[0;32m\"<ipython-input-530-9deeb658d4ff>\"\u001b[0;36m, line \u001b[0;32m1\u001b[0m\n\u001b[0;31m    df.apply(lambda x: x['class_name'] if not x['class_name'])\u001b[0m\n\u001b[0m                                                             ^\u001b[0m\n\u001b[0;31mSyntaxError\u001b[0m\u001b[0;31m:\u001b[0m invalid syntax\n"
     ]
    }
   ],
   "source": [
    "df.apply(lambda x: x['class_name'] if not x['class_name'])"
   ]
  },
  {
   "cell_type": "code",
   "execution_count": 539,
   "metadata": {},
   "outputs": [],
   "source": [
    "mask = (df['class_ID']==9)"
   ]
  },
  {
   "cell_type": "code",
   "execution_count": 540,
   "metadata": {},
   "outputs": [
    {
     "data": {
      "text/html": [
       "<div>\n",
       "<style scoped>\n",
       "    .dataframe tbody tr th:only-of-type {\n",
       "        vertical-align: middle;\n",
       "    }\n",
       "\n",
       "    .dataframe tbody tr th {\n",
       "        vertical-align: top;\n",
       "    }\n",
       "\n",
       "    .dataframe thead th {\n",
       "        text-align: right;\n",
       "    }\n",
       "</style>\n",
       "<table border=\"1\" class=\"dataframe\">\n",
       "  <thead>\n",
       "    <tr style=\"text-align: right;\">\n",
       "      <th></th>\n",
       "      <th>spectrogram</th>\n",
       "      <th>class_ID</th>\n",
       "      <th>class_name</th>\n",
       "    </tr>\n",
       "  </thead>\n",
       "  <tbody>\n",
       "    <tr>\n",
       "      <th>0</th>\n",
       "      <td>[[0.023263648, 0.013200079, 0.005690117, 0.005...</td>\n",
       "      <td>9</td>\n",
       "      <td>g</td>\n",
       "    </tr>\n",
       "    <tr>\n",
       "      <th>1</th>\n",
       "      <td>[[0.0030921197, 0.008742289, 0.01737749, 0.010...</td>\n",
       "      <td>9</td>\n",
       "      <td>g</td>\n",
       "    </tr>\n",
       "    <tr>\n",
       "      <th>2</th>\n",
       "      <td>[[0.011711276, 0.00850786, 0.006172516, 0.0059...</td>\n",
       "      <td>9</td>\n",
       "      <td>g</td>\n",
       "    </tr>\n",
       "    <tr>\n",
       "      <th>3</th>\n",
       "      <td>[[0.008072537, 0.006353717, 0.0074853124, 0.00...</td>\n",
       "      <td>9</td>\n",
       "      <td>g</td>\n",
       "    </tr>\n",
       "    <tr>\n",
       "      <th>4</th>\n",
       "      <td>[[0.0064443834, 0.007321003, 0.0068667047, 0.0...</td>\n",
       "      <td>9</td>\n",
       "      <td>g</td>\n",
       "    </tr>\n",
       "    <tr>\n",
       "      <th>...</th>\n",
       "      <td>...</td>\n",
       "      <td>...</td>\n",
       "      <td>...</td>\n",
       "    </tr>\n",
       "    <tr>\n",
       "      <th>1145</th>\n",
       "      <td>[[0.0031992316, 0.0072675794, 0.0061215893, 0....</td>\n",
       "      <td>9</td>\n",
       "      <td>g</td>\n",
       "    </tr>\n",
       "    <tr>\n",
       "      <th>1146</th>\n",
       "      <td>[[0.0055688657, 0.0057151928, 0.005380762, 0.0...</td>\n",
       "      <td>9</td>\n",
       "      <td>g</td>\n",
       "    </tr>\n",
       "    <tr>\n",
       "      <th>1147</th>\n",
       "      <td>[[0.006491574, 0.006028326, 0.014432897, 0.021...</td>\n",
       "      <td>9</td>\n",
       "      <td>g</td>\n",
       "    </tr>\n",
       "    <tr>\n",
       "      <th>1148</th>\n",
       "      <td>[[0.006491574, 0.006028326, 0.014432897, 0.021...</td>\n",
       "      <td>9</td>\n",
       "      <td>g</td>\n",
       "    </tr>\n",
       "    <tr>\n",
       "      <th>1149</th>\n",
       "      <td>[[0.0006489661, 0.00071197835, 0.0016601454, 0...</td>\n",
       "      <td>9</td>\n",
       "      <td>g</td>\n",
       "    </tr>\n",
       "  </tbody>\n",
       "</table>\n",
       "<p>115 rows × 3 columns</p>\n",
       "</div>"
      ],
      "text/plain": [
       "                                            spectrogram  class_ID class_name\n",
       "0     [[0.023263648, 0.013200079, 0.005690117, 0.005...         9          g\n",
       "1     [[0.0030921197, 0.008742289, 0.01737749, 0.010...         9          g\n",
       "2     [[0.011711276, 0.00850786, 0.006172516, 0.0059...         9          g\n",
       "3     [[0.008072537, 0.006353717, 0.0074853124, 0.00...         9          g\n",
       "4     [[0.0064443834, 0.007321003, 0.0068667047, 0.0...         9          g\n",
       "...                                                 ...       ...        ...\n",
       "1145  [[0.0031992316, 0.0072675794, 0.0061215893, 0....         9          g\n",
       "1146  [[0.0055688657, 0.0057151928, 0.005380762, 0.0...         9          g\n",
       "1147  [[0.006491574, 0.006028326, 0.014432897, 0.021...         9          g\n",
       "1148  [[0.006491574, 0.006028326, 0.014432897, 0.021...         9          g\n",
       "1149  [[0.0006489661, 0.00071197835, 0.0016601454, 0...         9          g\n",
       "\n",
       "[115 rows x 3 columns]"
      ]
     },
     "execution_count": 540,
     "metadata": {},
     "output_type": "execute_result"
    }
   ],
   "source": [
    "df[mask]"
   ]
  },
  {
   "cell_type": "code",
   "execution_count": 553,
   "metadata": {},
   "outputs": [
    {
     "data": {
      "text/plain": [
       "'/home/fm-pc-lt-150/Desktop/Guitar-Chords-recognition/data/audio/augmented/g/g102.wav'"
      ]
     },
     "execution_count": 553,
     "metadata": {},
     "output_type": "execute_result"
    }
   ],
   "source": [
    "x = data_df_raw['file_path'].iloc[0]\n",
    "os.path.join(DATA_DIR_AUGMENTED, x)"
   ]
  },
  {
   "cell_type": "code",
   "execution_count": 554,
   "metadata": {},
   "outputs": [],
   "source": [
    "path_exists_mask =  data_df_augmented_raw['file_path'].map(lambda x: not os.path.exists(os.path.join(DATA_DIR_AUGMENTED, x)))"
   ]
  },
  {
   "cell_type": "code",
   "execution_count": 555,
   "metadata": {},
   "outputs": [
    {
     "data": {
      "text/plain": [
       "True     8000\n",
       "False    8000\n",
       "Name: file_path, dtype: int64"
      ]
     },
     "execution_count": 555,
     "metadata": {},
     "output_type": "execute_result"
    }
   ],
   "source": [
    "path_exists_mask.value_counts()"
   ]
  },
  {
   "cell_type": "code",
   "execution_count": 559,
   "metadata": {},
   "outputs": [
    {
     "data": {
      "text/html": [
       "<div>\n",
       "<style scoped>\n",
       "    .dataframe tbody tr th:only-of-type {\n",
       "        vertical-align: middle;\n",
       "    }\n",
       "\n",
       "    .dataframe tbody tr th {\n",
       "        vertical-align: top;\n",
       "    }\n",
       "\n",
       "    .dataframe thead th {\n",
       "        text-align: right;\n",
       "    }\n",
       "</style>\n",
       "<table border=\"1\" class=\"dataframe\">\n",
       "  <thead>\n",
       "    <tr style=\"text-align: right;\">\n",
       "      <th></th>\n",
       "      <th>file_path</th>\n",
       "      <th>file_name</th>\n",
       "      <th>class_name</th>\n",
       "      <th>class_ID</th>\n",
       "      <th>y</th>\n",
       "      <th>sr</th>\n",
       "      <th>spectrogram</th>\n",
       "      <th>augmentation</th>\n",
       "      <th>shape</th>\n",
       "    </tr>\n",
       "  </thead>\n",
       "  <tbody>\n",
       "    <tr>\n",
       "      <th>0</th>\n",
       "      <td>g/g102.wav</td>\n",
       "      <td>g102.wav</td>\n",
       "      <td>g</td>\n",
       "      <td>9</td>\n",
       "      <td>[-0.070366405, -0.10625491, -0.06439576, -0.08...</td>\n",
       "      <td>22050</td>\n",
       "      <td>[[0.009564147, 0.20960604, 1.369052, 0.6042535...</td>\n",
       "      <td>None</td>\n",
       "      <td>(128, 76)</td>\n",
       "    </tr>\n",
       "    <tr>\n",
       "      <th>1</th>\n",
       "      <td>g/g194.wav</td>\n",
       "      <td>g194.wav</td>\n",
       "      <td>g</td>\n",
       "      <td>9</td>\n",
       "      <td>[0.003939517, 0.0057145343, 0.0060949815, 0.00...</td>\n",
       "      <td>22050</td>\n",
       "      <td>[[0.009173464, 0.009723088, 0.0051691546, 0.00...</td>\n",
       "      <td>None</td>\n",
       "      <td>(128, 77)</td>\n",
       "    </tr>\n",
       "    <tr>\n",
       "      <th>2</th>\n",
       "      <td>g/g144.wav</td>\n",
       "      <td>g144.wav</td>\n",
       "      <td>g</td>\n",
       "      <td>9</td>\n",
       "      <td>[-0.00017985907, 0.0010203752, 0.0037393924, 0...</td>\n",
       "      <td>22050</td>\n",
       "      <td>[[0.023263648, 0.013200079, 0.005690117, 0.005...</td>\n",
       "      <td>None</td>\n",
       "      <td>(128, 87)</td>\n",
       "    </tr>\n",
       "    <tr>\n",
       "      <th>3</th>\n",
       "      <td>g/g160.wav</td>\n",
       "      <td>g160.wav</td>\n",
       "      <td>g</td>\n",
       "      <td>9</td>\n",
       "      <td>[-0.0008470263, -0.00043425435, -0.00062727876...</td>\n",
       "      <td>22050</td>\n",
       "      <td>[[0.0030921197, 0.008742289, 0.01737749, 0.010...</td>\n",
       "      <td>None</td>\n",
       "      <td>(128, 87)</td>\n",
       "    </tr>\n",
       "    <tr>\n",
       "      <th>4</th>\n",
       "      <td>g/g129.wav</td>\n",
       "      <td>g129.wav</td>\n",
       "      <td>g</td>\n",
       "      <td>9</td>\n",
       "      <td>[-0.006440137, -0.007372321, -0.0007374781, 0....</td>\n",
       "      <td>22050</td>\n",
       "      <td>[[0.011711276, 0.00850786, 0.006172516, 0.0059...</td>\n",
       "      <td>None</td>\n",
       "      <td>(128, 87)</td>\n",
       "    </tr>\n",
       "    <tr>\n",
       "      <th>...</th>\n",
       "      <td>...</td>\n",
       "      <td>...</td>\n",
       "      <td>...</td>\n",
       "      <td>...</td>\n",
       "      <td>...</td>\n",
       "      <td>...</td>\n",
       "      <td>...</td>\n",
       "      <td>...</td>\n",
       "      <td>...</td>\n",
       "    </tr>\n",
       "    <tr>\n",
       "      <th>1995</th>\n",
       "      <td>d/d166.wav</td>\n",
       "      <td>d166.wav</td>\n",
       "      <td>d</td>\n",
       "      <td>4</td>\n",
       "      <td>[0.058236524, 0.08123742, 0.056173798, 0.04294...</td>\n",
       "      <td>22050</td>\n",
       "      <td>[[0.1764211, 0.043822616, 0.0052566878, 0.0060...</td>\n",
       "      <td>None</td>\n",
       "      <td>(128, 87)</td>\n",
       "    </tr>\n",
       "    <tr>\n",
       "      <th>1996</th>\n",
       "      <td>d/d33.wav</td>\n",
       "      <td>d33.wav</td>\n",
       "      <td>d</td>\n",
       "      <td>4</td>\n",
       "      <td>[0.00023138247, 0.0002892468, 0.0002360416, 0....</td>\n",
       "      <td>22050</td>\n",
       "      <td>[[7.337144e-05, 0.00019333852, 9.7900054e-05, ...</td>\n",
       "      <td>None</td>\n",
       "      <td>(128, 87)</td>\n",
       "    </tr>\n",
       "    <tr>\n",
       "      <th>1997</th>\n",
       "      <td>d/d173.wav</td>\n",
       "      <td>d173.wav</td>\n",
       "      <td>d</td>\n",
       "      <td>4</td>\n",
       "      <td>[-0.037300956, -0.091728985, -0.06686829, -0.0...</td>\n",
       "      <td>22050</td>\n",
       "      <td>[[0.07238557, 0.019314304, 0.006020969, 0.0077...</td>\n",
       "      <td>None</td>\n",
       "      <td>(128, 87)</td>\n",
       "    </tr>\n",
       "    <tr>\n",
       "      <th>1998</th>\n",
       "      <td>d/d145.wav</td>\n",
       "      <td>d145.wav</td>\n",
       "      <td>d</td>\n",
       "      <td>4</td>\n",
       "      <td>[-0.04395816, -0.05974601, -0.05267904, -0.053...</td>\n",
       "      <td>22050</td>\n",
       "      <td>[[0.17131603, 0.052995317, 0.0073828846, 0.005...</td>\n",
       "      <td>None</td>\n",
       "      <td>(128, 78)</td>\n",
       "    </tr>\n",
       "    <tr>\n",
       "      <th>1999</th>\n",
       "      <td>d/d11.wav</td>\n",
       "      <td>d11.wav</td>\n",
       "      <td>d</td>\n",
       "      <td>4</td>\n",
       "      <td>[-0.00015268817, -0.00019713647, -0.0001865312...</td>\n",
       "      <td>22050</td>\n",
       "      <td>[[0.00054469577, 0.0005361312, 0.00066351425, ...</td>\n",
       "      <td>None</td>\n",
       "      <td>(128, 85)</td>\n",
       "    </tr>\n",
       "  </tbody>\n",
       "</table>\n",
       "<p>8000 rows × 9 columns</p>\n",
       "</div>"
      ],
      "text/plain": [
       "       file_path file_name class_name  class_ID  \\\n",
       "0     g/g102.wav  g102.wav          g         9   \n",
       "1     g/g194.wav  g194.wav          g         9   \n",
       "2     g/g144.wav  g144.wav          g         9   \n",
       "3     g/g160.wav  g160.wav          g         9   \n",
       "4     g/g129.wav  g129.wav          g         9   \n",
       "...          ...       ...        ...       ...   \n",
       "1995  d/d166.wav  d166.wav          d         4   \n",
       "1996   d/d33.wav   d33.wav          d         4   \n",
       "1997  d/d173.wav  d173.wav          d         4   \n",
       "1998  d/d145.wav  d145.wav          d         4   \n",
       "1999   d/d11.wav   d11.wav          d         4   \n",
       "\n",
       "                                                      y     sr  \\\n",
       "0     [-0.070366405, -0.10625491, -0.06439576, -0.08...  22050   \n",
       "1     [0.003939517, 0.0057145343, 0.0060949815, 0.00...  22050   \n",
       "2     [-0.00017985907, 0.0010203752, 0.0037393924, 0...  22050   \n",
       "3     [-0.0008470263, -0.00043425435, -0.00062727876...  22050   \n",
       "4     [-0.006440137, -0.007372321, -0.0007374781, 0....  22050   \n",
       "...                                                 ...    ...   \n",
       "1995  [0.058236524, 0.08123742, 0.056173798, 0.04294...  22050   \n",
       "1996  [0.00023138247, 0.0002892468, 0.0002360416, 0....  22050   \n",
       "1997  [-0.037300956, -0.091728985, -0.06686829, -0.0...  22050   \n",
       "1998  [-0.04395816, -0.05974601, -0.05267904, -0.053...  22050   \n",
       "1999  [-0.00015268817, -0.00019713647, -0.0001865312...  22050   \n",
       "\n",
       "                                            spectrogram augmentation  \\\n",
       "0     [[0.009564147, 0.20960604, 1.369052, 0.6042535...         None   \n",
       "1     [[0.009173464, 0.009723088, 0.0051691546, 0.00...         None   \n",
       "2     [[0.023263648, 0.013200079, 0.005690117, 0.005...         None   \n",
       "3     [[0.0030921197, 0.008742289, 0.01737749, 0.010...         None   \n",
       "4     [[0.011711276, 0.00850786, 0.006172516, 0.0059...         None   \n",
       "...                                                 ...          ...   \n",
       "1995  [[0.1764211, 0.043822616, 0.0052566878, 0.0060...         None   \n",
       "1996  [[7.337144e-05, 0.00019333852, 9.7900054e-05, ...         None   \n",
       "1997  [[0.07238557, 0.019314304, 0.006020969, 0.0077...         None   \n",
       "1998  [[0.17131603, 0.052995317, 0.0073828846, 0.005...         None   \n",
       "1999  [[0.00054469577, 0.0005361312, 0.00066351425, ...         None   \n",
       "\n",
       "          shape  \n",
       "0     (128, 76)  \n",
       "1     (128, 77)  \n",
       "2     (128, 87)  \n",
       "3     (128, 87)  \n",
       "4     (128, 87)  \n",
       "...         ...  \n",
       "1995  (128, 87)  \n",
       "1996  (128, 87)  \n",
       "1997  (128, 87)  \n",
       "1998  (128, 78)  \n",
       "1999  (128, 85)  \n",
       "\n",
       "[8000 rows x 9 columns]"
      ]
     },
     "execution_count": 559,
     "metadata": {},
     "output_type": "execute_result"
    }
   ],
   "source": [
    "data_df_augmented_raw[path_exists_mask]"
   ]
  },
  {
   "cell_type": "code",
   "execution_count": null,
   "metadata": {},
   "outputs": [],
   "source": []
  }
 ],
 "metadata": {
  "kernelspec": {
   "display_name": "Python 3",
   "language": "python",
   "name": "python3"
  },
  "language_info": {
   "codemirror_mode": {
    "name": "ipython",
    "version": 3
   },
   "file_extension": ".py",
   "mimetype": "text/x-python",
   "name": "python",
   "nbconvert_exporter": "python",
   "pygments_lexer": "ipython3",
   "version": "3.6.10"
  }
 },
 "nbformat": 4,
 "nbformat_minor": 2
}
